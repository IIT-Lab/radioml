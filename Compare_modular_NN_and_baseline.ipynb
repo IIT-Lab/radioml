{
 "cells": [
  {
   "cell_type": "code",
   "execution_count": 1,
   "metadata": {},
   "outputs": [],
   "source": [
    "import numpy as np\n",
    "import commpy as cp\n",
    "from commpy.channelcoding import Trellis\n",
    "from commpy.modulation import QAMModem, PSKModem\n",
    "\n",
    "import utils as utils\n",
    "from signal_generator import SignalGenerator\n",
    "from baseline_receiver import BaselineReceiver\n",
    "from modular_receiver import ModularReceiver\n",
    "\n",
    "# Visualization\n",
    "import pylab\n",
    "import seaborn as sns\n",
    "import matplotlib.pyplot as plt\n",
    "sns.set()  # Use seaborn as backend of matplotlib for vis"
   ]
  },
  {
   "cell_type": "markdown",
   "metadata": {},
   "source": [
    "## Define Paramters for the comparison"
   ]
  },
  {
   "cell_type": "code",
   "execution_count": 2,
   "metadata": {},
   "outputs": [],
   "source": [
    "# For encoding/decoding convolutional codes\n",
    "G = np.array([[0o7, 0o5]]) \n",
    "M = np.array([2])\n",
    "trellis = Trellis(M, G, feedback=0o7, code_type='rsc')\n",
    "\n",
    "class Params:\n",
    "    SNR_RANGE = range(0, 30, 5)\n",
    "    NUM_SAMPLES = 100\n",
    "    BLOCK_LENGTH = 100\n",
    "    BPSK, QPSK, QAM16, QAM64 = 2, 4, 16, 64\n",
    "    \n",
    "modem = QAMModem(m=Params.QAM16)\n",
    "signal_generator = SignalGenerator(modem=modem)"
   ]
  },
  {
   "cell_type": "markdown",
   "metadata": {},
   "source": [
    "## Define Baseline (Demod + Viterbi) & Modular Receivers (NN + RNN)"
   ]
  },
  {
   "cell_type": "code",
   "execution_count": 3,
   "metadata": {},
   "outputs": [
    {
     "name": "stdout",
     "output_type": "stream",
     "text": [
      "Pre-trained weighs are loaded.\n"
     ]
    }
   ],
   "source": [
    "baseline_receiver = BaselineReceiver(modem, trellis)\n",
    "modular_receiver = ModularReceiver(\n",
    "    num_classes=modem.m,\n",
    "    demod_model_path='demod_model.hdf5')"
   ]
  },
  {
   "cell_type": "markdown",
   "metadata": {},
   "source": [
    "## Evaluate Baseline  on multiple SNRs"
   ]
  },
  {
   "cell_type": "code",
   "execution_count": null,
   "metadata": {
    "scrolled": false
   },
   "outputs": [
    {
     "name": "stderr",
     "output_type": "stream",
     "text": [
      " 50%|█████     | 3/6 [00:05<00:05,  1.82s/it]"
     ]
    }
   ],
   "source": [
    "import tqdm\n",
    "\n",
    "errors_logs = []\n",
    "accuracies_logs = []\n",
    "\n",
    "fig, axes = plt.subplots(len(Params.SNR_RANGE), 2, figsize=(14, 4 * len(Params.SNR_RANGE)))\n",
    "for i, snr in tqdm.tqdm(enumerate(Params.SNR_RANGE), total=len(Params.SNR_RANGE)):\n",
    "    (original_bits, clean_signals, noisy_signals) = signal_generator(\n",
    "        Params.NUM_SAMPLES, \n",
    "        Params.BLOCK_LENGTH, \n",
    "        snr_in_dB=snr)\n",
    "    complex_inputs = noisy_signals.flatten()\n",
    "    _, ground_truths = np.unique(clean_signals.flatten(), return_inverse=True)\n",
    "\n",
    "    # ####################################\n",
    "    # Run Baseline/Neral Demod\n",
    "    # ####################################\n",
    "    baseline_predictions  = baseline_receiver.demodulate(complex_inputs)\n",
    "    nn_predictions = modular_receiver.demodulate(complex_inputs)\n",
    "\n",
    "    # ####################################\n",
    "    # Measure Accuracy / error\n",
    "    # ####################################\n",
    "    acc, err       = utils.get_scores(baseline_predictions, ground_truths)    \n",
    "    nn_acc, nn_err = utils.get_scores(nn_predictions, ground_truths)\n",
    "\n",
    "    # ####################################\n",
    "    # Visualize\n",
    "    # ####################################\n",
    "    title    = '[Baseline] SNR = {} | Acc = {:.2f} | Error = {:.2f}'.format(snr, acc, err)\n",
    "    nn_title = '[Modular] SNR = {} | Acc = {:.2f} | Error = {:.2f}'.format(snr, nn_acc, nn_err)\n",
    "\n",
    "    utils.visualize_demodulation(complex_inputs, modem.constellation, ax=axes[i, 0],\n",
    "        predictions=baseline_predictions,\n",
    "        title=title)\n",
    "\n",
    "    utils.visualize_demodulation(complex_inputs, modem.constellation, ax=axes[i, 1],\n",
    "        predictions=nn_predictions,\n",
    "        title=nn_title)\n",
    "    \n",
    "    errors_logs.append([err, nn_err])\n",
    "    accuracies_logs.append([acc, nn_acc])\n",
    "\n",
    "fig.tight_layout()"
   ]
  },
  {
   "cell_type": "code",
   "execution_count": null,
   "metadata": {},
   "outputs": [],
   "source": [
    "_, (ax1, ax2) = plt.subplots(1, 2, figsize=(16, 6))\n",
    "snr_range = Params.SNR_RANGE\n",
    "# utils.visualize_acc_err(ax1, ax2, errors_logs, accuracies_logs, Params.SNR_RANGE)\n",
    "ax1.plot(snr_range, np.array(errors_logs).T[0, :], 'r-')\n",
    "ax1.plot(snr_range, np.array(errors_logs).T[1, :], 'b--')\n",
    "ax1.legend(['Baseline', 'NN Demod'], fontsize=15)\n",
    "ax1.set_title('Error (in Log Scale)')\n",
    "ax1.set_xlabel('SNR (in dB)')\n",
    "ax1.grid(True,'both')\n",
    "ax1.set_xlim(np.min(snr_range), np.max(snr_range))\n",
    "ax2.plot(snr_range, np.array(accuracies_logs).T[0,:], 'r-')\n",
    "ax2.plot(snr_range, np.array(accuracies_logs).T[1,:], 'b--')\n",
    "ax2.legend(['Baseline', 'NN Demod'], fontsize=15)\n",
    "ax2.set_title('Accuracy')\n",
    "ax2.set_xlabel('SNR (in dB)')\n",
    "ax2.set_xlim(np.min(snr_range), np.max(snr_range))\n"
   ]
  },
  {
   "cell_type": "markdown",
   "metadata": {},
   "source": [
    "## Evaluate Decode"
   ]
  },
  {
   "cell_type": "code",
   "execution_count": null,
   "metadata": {},
   "outputs": [],
   "source": []
  }
 ],
 "metadata": {
  "kernelspec": {
   "display_name": "Python 3",
   "language": "python",
   "name": "python3"
  },
  "language_info": {
   "codemirror_mode": {
    "name": "ipython",
    "version": 3
   },
   "file_extension": ".py",
   "mimetype": "text/x-python",
   "name": "python",
   "nbconvert_exporter": "python",
   "pygments_lexer": "ipython3",
   "version": "3.6.5"
  }
 },
 "nbformat": 4,
 "nbformat_minor": 2
}
