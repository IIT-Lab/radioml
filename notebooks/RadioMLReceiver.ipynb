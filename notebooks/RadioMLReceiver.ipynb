{
 "cells": [
  {
   "cell_type": "markdown",
   "metadata": {
    "colab_type": "text",
    "id": "ROD0y3TeNddr"
   },
   "source": [
    "# RadioML Receiver\n",
    "\n",
    "### A Recurrent Neural Network for Learning to demodulate and decode noisy signals over AWGN Channel.\n",
    "\n",
    "___"
   ]
  },
  {
   "cell_type": "markdown",
   "metadata": {
    "colab_type": "text",
    "id": "18u41hUUMZkz"
   },
   "source": [
    "# Environment Setup\n",
    "\n",
    "Download & install and import packages for this tutorial\n"
   ]
  },
  {
   "cell_type": "code",
   "execution_count": 1,
   "metadata": {
    "colab": {
     "autoexec": {
      "startup": false,
      "wait_interval": 0
     },
     "base_uri": "https://localhost:8080/",
     "height": 52
    },
    "colab_type": "code",
    "executionInfo": {
     "elapsed": 11306,
     "status": "ok",
     "timestamp": 1532421239892,
     "user": {
      "displayName": "Dat Nguyen",
      "photoUrl": "//lh3.googleusercontent.com/-irIcNYd-KIw/AAAAAAAAAAI/AAAAAAAAAEs/NlM8kG6RL4Q/s50-c-k-no/photo.jpg",
      "userId": "108917076199533451784"
     },
     "user_tz": 420
    },
    "id": "sHIc3Fq1NLRr",
    "outputId": "66bb06bb-e5a8-490b-c8e1-6198548ef382"
   },
   "outputs": [
    {
     "name": "stdout",
     "output_type": "stream",
     "text": [
      "\n",
      "Environment setup is completed.\n"
     ]
    }
   ],
   "source": [
    "# Import local module\n",
    "import time\n",
    "import os\n",
    "import sys\n",
    "# a hack to import module from different directory\n",
    "module_path = os.path.abspath(os.path.join('..'))\n",
    "if module_path not in sys.path:\n",
    "    sys.path.append(module_path)\n",
    "\n",
    "import multiprocessing as mp\n",
    "import random \n",
    "import numpy as np\n",
    "import commpy as cp\n",
    "from commpy.channelcoding import Trellis\n",
    "from commpy.modulation import QAMModem, PSKModem\n",
    "\n",
    "# For baseline comparision\n",
    "from radioml.demodulators import ClassicDemodulator\n",
    "from radioml.decoders import ViterbiDecoder\n",
    "from radioml.radio_receivers import ModularReceiver, End2EndReceiver\n",
    "import radioml.utils as radioml_utils\n",
    "\n",
    "# For end2end receiver\n",
    "import tensorflow as tf\n",
    "from tensorflow.keras.layers import Input, Dense, BatchNormalization\n",
    "from tensorflow.keras.layers import GRU, Bidirectional, TimeDistributed\n",
    "\n",
    "# For visualization\n",
    "import pylab\n",
    "import matplotlib.pyplot as plt\n",
    "import matplotlib.gridspec as gridspec\n",
    "import seaborn as sns\n",
    "sns.set()\n",
    "\n",
    "print(\"\\nEnvironment setup is completed.\")"
   ]
  },
  {
   "cell_type": "markdown",
   "metadata": {
    "colab_type": "text",
    "id": "uUkGsBo8Y5XW"
   },
   "source": [
    "# Define parameters for this experiment"
   ]
  },
  {
   "cell_type": "code",
   "execution_count": 2,
   "metadata": {
    "colab": {
     "autoexec": {
      "startup": false,
      "wait_interval": 0
     }
    },
    "colab_type": "code",
    "id": "-4vqq3NBY5Xa"
   },
   "outputs": [],
   "source": [
    "DATA_LENGTH  = 100\n",
    "DATA_RATE    = 1/2\n",
    "SNR_TRAIN    = 10.0 \n",
    "\n",
    "SNR          = SNR_TRAIN \n",
    "\n",
    "modem = QAMModem(4) \n",
    "trellis = Trellis(memory   = np.array([2]), \n",
    "                  g_matrix = np.array([[0o7, 0o5]]) , \n",
    "                  feedback = 0o7)"
   ]
  },
  {
   "cell_type": "markdown",
   "metadata": {
    "colab_type": "text",
    "id": "4KThGWaoY5X-"
   },
   "source": [
    "# Dataset Prepartion\n",
    "\n",
    "## Define functions for data generator/transformation.\n"
   ]
  },
  {
   "cell_type": "code",
   "execution_count": 3,
   "metadata": {
    "colab": {
     "autoexec": {
      "startup": false,
      "wait_interval": 0
     }
    },
    "colab_type": "code",
    "id": "UpynhPn2Y5Xr"
   },
   "outputs": [],
   "source": [
    "def generate_signal_over_awgn(modem, data_length=100, snr_dB=15.0):\n",
    "    \"\"\"Simulate Data sending over AWGN Channel.\"\"\"\n",
    "    \n",
    "    message_bits   = np.random.randint(0, 2, data_length)\n",
    "    encoded_bits   = cp.channelcoding.conv_encode(message_bits, trellis)\n",
    "    modulated_bits = modem.modulate(encoded_bits)\n",
    "    corrupted_bits = cp.channels.awgn(modulated_bits, snr_dB, rate=1/2)\n",
    "    return message_bits, modulated_bits, corrupted_bits\n",
    " \n",
    "def get_trainable_data(x, y):\n",
    "    \"\"\"Encode complex numbers to trainable data and one_hot labels\"\"\"\n",
    "    x = np.array(x)[:, :100]\n",
    "    y = np.array(y)\n",
    "    x = np.stack((x.real, x.imag), axis=-1)\n",
    "    y = np.expand_dims(y, -1)  # (batch, data_length, 1)\n",
    "    return x, y\n",
    "\n",
    "def signal_generator(modulation_scheme, num_examples, data_length, snr_dB, \n",
    "                     seed=2018):\n",
    "    \"\"\"A generator to generate NUM_SAMPLES data points.\"\"\"\n",
    "    \n",
    "    np.random.seed(seed)\n",
    "    with mp.Pool(mp.cpu_count()) as pool:\n",
    "        result = pool.starmap(generate_signal_over_awgn,\n",
    "                iterable=[(modulation_scheme, data_length, snr_dB) \\\n",
    "                          for i in range(num_examples)])\n",
    "        orignal_msg_bits, moded_bits, noisy_outputs = zip(*result)\n",
    "    np.random.seed()\n",
    "    return (np.array(orignal_msg_bits), np.array(moded_bits), np.array(noisy_outputs))"
   ]
  },
  {
   "cell_type": "markdown",
   "metadata": {
    "colab_type": "text",
    "id": "ZO0F4ydKP_SE"
   },
   "source": [
    "## Generate dev/test dataset\n"
   ]
  },
  {
   "cell_type": "code",
   "execution_count": 4,
   "metadata": {
    "colab": {
     "autoexec": {
      "startup": false,
      "wait_interval": 0
     },
     "base_uri": "https://localhost:8080/",
     "height": 418
    },
    "colab_type": "code",
    "executionInfo": {
     "elapsed": 2376,
     "status": "ok",
     "timestamp": 1532421244331,
     "user": {
      "displayName": "Dat Nguyen",
      "photoUrl": "//lh3.googleusercontent.com/-irIcNYd-KIw/AAAAAAAAAAI/AAAAAAAAAEs/NlM8kG6RL4Q/s50-c-k-no/photo.jpg",
      "userId": "108917076199533451784"
     },
     "user_tz": 420
    },
    "id": "38VLHq-xY5YI",
    "outputId": "5090537a-80d0-4430-e818-95e126b36d6c"
   },
   "outputs": [
    {
     "name": "stdout",
     "output_type": "stream",
     "text": [
      "Training data\n",
      "Trainable data: (10000, 100, 2)\n",
      "Groundtruths  : (10000, 100, 1)\n",
      "\n"
     ]
    },
    {
     "data": {
      "image/png": "[encoded data removed]",
      "text/plain": [
       "<Figure size 432x288 with 1 Axes>"
      ]
     },
     "metadata": {},
     "output_type": "display_data"
    }
   ],
   "source": [
    "# Generate data for training\n",
    "original_bits, clean_signals, noisy_signals = signal_generator(modem, 10000, DATA_LENGTH, SNR)\n",
    "\n",
    "# Split data into train/dev/test\n",
    "dataset = list(zip(noisy_signals, original_bits))\n",
    "\n",
    "# Split data\n",
    "x_dev, y_dev = zip(*dataset)\n",
    "X_dev, Y_dev = get_trainable_data(x_dev, y_dev)\n",
    "\n",
    "print('Training data')\n",
    "print('Trainable data:', X_dev.shape)\n",
    "print('Groundtruths  :', Y_dev.shape)\n",
    "print()\n",
    "\n",
    "## Visualize a subset of data\n",
    "inputs = noisy_signals.flatten()[0:1000]\n",
    "_, groundtruths = np.unique(clean_signals, return_inverse=True)\n",
    "_ = plt.scatter(np.real(inputs), np.imag(inputs), c=groundtruths[0:1000])"
   ]
  },
  {
   "cell_type": "markdown",
   "metadata": {
    "colab_type": "text",
    "id": "fzIgWXzhY5ZN"
   },
   "source": [
    "#  Compute baseline performance (Classic Demodulation + Viterbi)\n"
   ]
  },
  {
   "cell_type": "code",
   "execution_count": 5,
   "metadata": {
    "colab": {
     "autoexec": {
      "startup": false,
      "wait_interval": 0
     },
     "base_uri": "https://localhost:8080/",
     "height": 52
    },
    "colab_type": "code",
    "executionInfo": {
     "elapsed": 3324,
     "status": "ok",
     "timestamp": 1532421247835,
     "user": {
      "displayName": "Dat Nguyen",
      "photoUrl": "//lh3.googleusercontent.com/-irIcNYd-KIw/AAAAAAAAAAI/AAAAAAAAAEs/NlM8kG6RL4Q/s50-c-k-no/photo.jpg",
      "userId": "108917076199533451784"
     },
     "user_tz": 420
    },
    "id": "UrXMpwthY5ZR",
    "outputId": "399bdca8-5c57-4697-c4f9-9a95b7ee56ce"
   },
   "outputs": [
    {
     "name": "stdout",
     "output_type": "stream",
     "text": [
      "Optimal BER: 0.0005\n",
      "Optimal BLER: 0.02480\n"
     ]
    }
   ],
   "source": [
    "baseline_receiver = ModularReceiver(\n",
    "    ClassicDemodulator(modem),\n",
    "    ViterbiDecoder(trellis, tb_depth=15))\n",
    "\n",
    "with mp.Pool(mp.cpu_count()) as pool:\n",
    "    baseline_estimated = pool.map(baseline_receiver, [i for i in x_dev])\n",
    "\n",
    "ber, bler = radioml_utils.get_ber_bler(np.array(baseline_estimated)[:, :100], y_dev)\n",
    "print('Optimal BER: %.4f' % ber)\n",
    "print('Optimal BLER: %.5f' % bler)"
   ]
  },
  {
   "cell_type": "markdown",
   "metadata": {
    "colab_type": "text",
    "id": "i0C-2QYyY5Zf"
   },
   "source": [
    " # Construct a Recurrent  Neural Network (2-layer Bidirectional GRU )\n",
    " \n",
    " \n",
    "Here we implement an RNN that will read encoded complex inputs and estimate the orignal message bits"
   ]
  },
  {
   "cell_type": "code",
   "execution_count": 6,
   "metadata": {
    "colab": {
     "autoexec": {
      "startup": false,
      "wait_interval": 0
     },
     "base_uri": "https://localhost:8080/",
     "height": 351
    },
    "colab_type": "code",
    "executionInfo": {
     "elapsed": 1923,
     "status": "ok",
     "timestamp": 1532421250046,
     "user": {
      "displayName": "Dat Nguyen",
      "photoUrl": "//lh3.googleusercontent.com/-irIcNYd-KIw/AAAAAAAAAAI/AAAAAAAAAEs/NlM8kG6RL4Q/s50-c-k-no/photo.jpg",
      "userId": "108917076199533451784"
     },
     "user_tz": 420
    },
    "id": "JcozPuNKY5Zh",
    "outputId": "515a2d96-b85c-45ef-9d8c-0a630e6904a5"
   },
   "outputs": [
    {
     "name": "stdout",
     "output_type": "stream",
     "text": [
      "_________________________________________________________________\n",
      "Layer (type)                 Output Shape              Param #   \n",
      "=================================================================\n",
      "input_1 (InputLayer)         (None, None, 2)           0         \n",
      "_________________________________________________________________\n",
      "bidirectional (Bidirectional (None, None, 800)         967200    \n",
      "_________________________________________________________________\n",
      "batch_normalization (BatchNo (None, None, 800)         3200      \n",
      "_________________________________________________________________\n",
      "bidirectional_1 (Bidirection (None, None, 800)         2882400   \n",
      "_________________________________________________________________\n",
      "batch_normalization_1 (Batch (None, None, 800)         3200      \n",
      "_________________________________________________________________\n",
      "time_distributed (TimeDistri (None, None, 1)           801       \n",
      "=================================================================\n",
      "Total params: 3,856,801\n",
      "Trainable params: 3,853,601\n",
      "Non-trainable params: 3,200\n",
      "_________________________________________________________________\n"
     ]
    }
   ],
   "source": [
    "num_hidden_layers = 2\n",
    "hidden_units = 400\n",
    "dropout = 0.3\n",
    "\n",
    "# To avoid accidenttally run this cell multiple times.\n",
    "tf.keras.backend.clear_session()\n",
    "\n",
    "inputs  = Input(shape=(None, 2))\n",
    "x = inputs\n",
    "# Network Architecture\n",
    "for _ in range(num_hidden_layers):\n",
    "    x = Bidirectional(GRU(hidden_units,return_sequences=True, recurrent_dropout=dropout))(x)\n",
    "    x = BatchNormalization()(x)\n",
    "outputs = TimeDistributed(Dense(1, activation='sigmoid'))(x)\n",
    "\n",
    "model = tf.keras.Model(inputs, outputs)\n",
    "model.summary()"
   ]
  },
  {
   "cell_type": "markdown",
   "metadata": {
    "colab_type": "text",
    "id": "LaaMODV3UnwF"
   },
   "source": [
    "## Define Loss Function / Metrics (BER/BLER) for training."
   ]
  },
  {
   "cell_type": "code",
   "execution_count": 7,
   "metadata": {
    "colab": {
     "autoexec": {
      "startup": false,
      "wait_interval": 0
     },
     "base_uri": "https://localhost:8080/",
     "height": 178
    },
    "colab_type": "code",
    "executionInfo": {
     "elapsed": 20718,
     "status": "ok",
     "timestamp": 1532421271175,
     "user": {
      "displayName": "Dat Nguyen",
      "photoUrl": "//lh3.googleusercontent.com/-irIcNYd-KIw/AAAAAAAAAAI/AAAAAAAAAEs/NlM8kG6RL4Q/s50-c-k-no/photo.jpg",
      "userId": "108917076199533451784"
     },
     "user_tz": 420
    },
    "id": "abHjTgDgY5Zw",
    "outputId": "77a97512-7512-43ef-f9f4-c040df98d5ad"
   },
   "outputs": [],
   "source": [
    "def BLER(y, y_pred):\n",
    "    num_blocks_per_batch = tf.cast(tf.shape(y)[0], tf.int64)\n",
    "    hamming_distances =  tf.cast(tf.not_equal(y, tf.round(y_pred)), tf.int32)\n",
    "    return tf.count_nonzero(tf.reduce_sum(hamming_distances, axis=1)) \\\n",
    "            / num_blocks_per_batch\n",
    "\n",
    "model.compile('adam','binary_crossentropy', metrics=[BLER])"
   ]
  },
  {
   "cell_type": "code",
   "execution_count": 8,
   "metadata": {},
   "outputs": [
    {
     "name": "stdout",
     "output_type": "stream",
     "text": [
      "Epoch 1/50\n",
      "100/100 [==============================] - 73s 728ms/step - loss: 0.0541 - BLER: 0.6689 - val_loss: 0.2881 - val_BLER: 0.9928\n",
      "Epoch 2/50\n",
      "100/100 [==============================] - 65s 654ms/step - loss: 0.0093 - BLER: 0.2542 - val_loss: 0.1585 - val_BLER: 0.9312\n",
      "Epoch 3/50\n",
      "100/100 [==============================] - 68s 683ms/step - loss: 0.0042 - BLER: 0.1231 - val_loss: 0.0655 - val_BLER: 0.7029\n",
      "Epoch 4/50\n",
      "100/100 [==============================] - 68s 675ms/step - loss: 0.0036 - BLER: 0.1094 - val_loss: 0.0135 - val_BLER: 0.2477\n",
      "Epoch 5/50\n",
      "100/100 [==============================] - 76s 757ms/step - loss: 0.0032 - BLER: 0.0998 - val_loss: 0.0042 - val_BLER: 0.1168\n",
      "Epoch 6/50\n",
      "100/100 [==============================] - 72s 720ms/step - loss: 0.0029 - BLER: 0.0891 - val_loss: 0.0028 - val_BLER: 0.0848\n",
      "Epoch 7/50\n",
      "100/100 [==============================] - 77s 772ms/step - loss: 0.0025 - BLER: 0.0759 - val_loss: 0.0020 - val_BLER: 0.0592\n",
      "Epoch 8/50\n",
      "100/100 [==============================] - 77s 766ms/step - loss: 0.0019 - BLER: 0.0587 - val_loss: 0.0014 - val_BLER: 0.0392\n",
      "Epoch 9/50\n",
      "100/100 [==============================] - 81s 810ms/step - loss: 0.0013 - BLER: 0.0394 - val_loss: 0.0010 - val_BLER: 0.0320\n",
      "Epoch 10/50\n",
      "100/100 [==============================] - 79s 795ms/step - loss: 0.0011 - BLER: 0.0343 - val_loss: 8.2529e-04 - val_BLER: 0.0272\n",
      "Epoch 11/50\n",
      "100/100 [==============================] - 72s 723ms/step - loss: 9.4506e-04 - BLER: 0.0284 - val_loss: 7.7313e-04 - val_BLER: 0.0224\n",
      "Epoch 12/50\n",
      "100/100 [==============================] - 75s 749ms/step - loss: 8.9777e-04 - BLER: 0.0271 - val_loss: 5.9547e-04 - val_BLER: 0.0192\n",
      "Epoch 13/50\n",
      "100/100 [==============================] - 72s 718ms/step - loss: 7.9960e-04 - BLER: 0.0220 - val_loss: 5.4385e-04 - val_BLER: 0.0176\n",
      "Epoch 14/50\n",
      "100/100 [==============================] - 80s 804ms/step - loss: 7.7396e-04 - BLER: 0.0237 - val_loss: 4.3182e-04 - val_BLER: 0.0136\n",
      "Epoch 15/50\n",
      "100/100 [==============================] - 77s 773ms/step - loss: 7.5527e-04 - BLER: 0.0234 - val_loss: 0.0018 - val_BLER: 0.0527\n",
      "Epoch 16/50\n",
      "100/100 [==============================] - 80s 803ms/step - loss: 6.7471e-04 - BLER: 0.0193 - val_loss: 3.4205e-04 - val_BLER: 0.0104\n",
      "Epoch 17/50\n",
      "100/100 [==============================] - 81s 806ms/step - loss: 8.0728e-04 - BLER: 0.0216 - val_loss: 3.6227e-04 - val_BLER: 0.0096\n",
      "Epoch 18/50\n",
      "100/100 [==============================] - 73s 728ms/step - loss: 0.0015 - BLER: 0.0422 - val_loss: 7.5770e-04 - val_BLER: 0.0256\n",
      "Epoch 19/50\n",
      "100/100 [==============================] - 76s 765ms/step - loss: 6.6544e-04 - BLER: 0.0187 - val_loss: 2.3217e-04 - val_BLER: 0.0064\n",
      "Epoch 20/50\n",
      "100/100 [==============================] - 82s 817ms/step - loss: 4.3452e-04 - BLER: 0.0127 - val_loss: 1.4803e-04 - val_BLER: 0.0032\n",
      "Epoch 21/50\n",
      "100/100 [==============================] - 83s 831ms/step - loss: 3.5548e-04 - BLER: 0.0100 - val_loss: 1.2344e-04 - val_BLER: 0.0032\n",
      "Epoch 22/50\n",
      "100/100 [==============================] - 78s 782ms/step - loss: 3.5204e-04 - BLER: 0.0101 - val_loss: 1.2361e-04 - val_BLER: 0.0032\n"
     ]
    },
    {
     "data": {
      "text/plain": [
       "<tensorflow.python.keras.callbacks.History at 0x7f6b46c4da58>"
      ]
     },
     "execution_count": 8,
     "metadata": {},
     "output_type": "execute_result"
    }
   ],
   "source": [
    "def generate_unlimited_data(batch_size=128):\n",
    "    while True:\n",
    "        batch = [generate_signal_over_awgn(modem, DATA_LENGTH, SNR_TRAIN) \\\n",
    "                   for i in range(batch_size)]\n",
    "        labels, _, inputs  = zip(*batch)\n",
    "        x, y = get_trainable_data(inputs, labels)\n",
    "        yield x, y\n",
    "\n",
    "early_stopping = tf.keras.callbacks.EarlyStopping(\n",
    "    'val_BLER', patience=2)\n",
    "\n",
    "model.fit_generator(\n",
    "    generator= generate_unlimited_data(256),\n",
    "    steps_per_epoch=100,\n",
    "    validation_data=(X_dev, Y_dev),\n",
    "    callbacks=[early_stopping],\n",
    "    epochs=50)"
   ]
  },
  {
   "cell_type": "markdown",
   "metadata": {
    "colab_type": "text",
    "id": "lCCDaerTVvWW"
   },
   "source": [
    "# Evaluate on Test Set (100K data points) at $SNR_{train}$"
   ]
  },
  {
   "cell_type": "code",
   "execution_count": 9,
   "metadata": {
    "colab": {
     "autoexec": {
      "startup": false,
      "wait_interval": 0
     },
     "base_uri": "https://localhost:8080/",
     "height": 52
    },
    "colab_type": "code",
    "executionInfo": {
     "elapsed": 4020,
     "status": "ok",
     "timestamp": 1532421331724,
     "user": {
      "displayName": "Dat Nguyen",
      "photoUrl": "//lh3.googleusercontent.com/-irIcNYd-KIw/AAAAAAAAAAI/AAAAAAAAAEs/NlM8kG6RL4Q/s50-c-k-no/photo.jpg",
      "userId": "108917076199533451784"
     },
     "user_tz": 420
    },
    "id": "P0WY-BXtY5Z9",
    "outputId": "07855a41-1e2f-4d66-bdcb-184d7aa87b1c"
   },
   "outputs": [
    {
     "name": "stdout",
     "output_type": "stream",
     "text": [
      "[Baseline]    BER = 0.00035520, BLER = 0.01904000\n",
      "[ML Receiver] BER = 0.00004080, BLER = 0.00368000\n"
     ]
    }
   ],
   "source": [
    "# Generate data for training\n",
    "original_bits, clean_signals, noisy_signals = signal_generator(modem, 100000, DATA_LENGTH, SNR)\n",
    "\n",
    "# Split data into train/dev/test\n",
    "dataset = list(zip(noisy_signals, original_bits))\n",
    "\n",
    "# Split data\n",
    "x_test, y_test = zip(*dataset)\n",
    "X_test, Y_test = get_trainable_data(x_test, y_test)\n",
    "\n",
    "\n",
    "# ############################\n",
    "# Baseline Receiver\n",
    "# ############################\n",
    "with mp.Pool(mp.cpu_count()) as pool:\n",
    "    baseline_estimated = pool.map(baseline_receiver, [i for i in x_test])\n",
    "    \n",
    "print('[Baseline]    BER = %.8f, BLER = %.8f' % \\\n",
    "      radioml_utils.get_ber_bler(np.array(baseline_estimated)[:, :100], y_test))\n",
    "\n",
    "# ############################\n",
    "# ML Receiver\n",
    "# ############################\n",
    "predictions = model.predict(X_test, batch_size=512)\n",
    "ml_estimated = np.squeeze(predictions, -1).round()\n",
    "\n",
    "print('[ML Receiver] BER = %.8f, BLER = %.8f' % \\\n",
    "      radioml_utils.get_ber_bler(ml_estimated, y_test))\n"
   ]
  },
  {
   "cell_type": "markdown",
   "metadata": {
    "colab_type": "text",
    "id": "7cdmmpKuWsFj"
   },
   "source": [
    "# Evaluate on multiple $SNRs$."
   ]
  },
  {
   "cell_type": "code",
   "execution_count": 12,
   "metadata": {
    "colab": {
     "autoexec": {
      "startup": false,
      "wait_interval": 0
     },
     "base_uri": "https://localhost:8080/",
     "height": 439
    },
    "colab_type": "code",
    "executionInfo": {
     "elapsed": 31356,
     "status": "ok",
     "timestamp": 1532421417328,
     "user": {
      "displayName": "Dat Nguyen",
      "photoUrl": "//lh3.googleusercontent.com/-irIcNYd-KIw/AAAAAAAAAAI/AAAAAAAAAEs/NlM8kG6RL4Q/s50-c-k-no/photo.jpg",
      "userId": "108917076199533451784"
     },
     "user_tz": 420
    },
    "id": "6gA2Q4rH3T7R",
    "outputId": "aa0c078c-9184-4e79-9be9-7708d20da541"
   },
   "outputs": [
    {
     "name": "stdout",
     "output_type": "stream",
     "text": [
      "SNR_dB = 0.000000\n",
      "\t[Modular]  Ber = 0.23190400 | Bler =1.00000000 - 8.05234s\n",
      "\t[Baseline] Ber = 0.28347100 | Bler =1.00000000 - 40.36711s\n",
      "SNR_dB = 3.000000\n",
      "\t[Modular]  Ber = 0.11208700 | Bler =1.00000000 - 8.00770s\n",
      "\t[Baseline] Ber = 0.16619700 | Bler =0.99920000 - 40.07659s\n",
      "SNR_dB = 5.000000\n",
      "\t[Modular]  Ber = 0.03852400 | Bler =0.90250000 - 6.87620s\n",
      "\t[Baseline] Ber = 0.07521200 | Bler =0.92170000 - 39.77989s\n",
      "SNR_dB = 7.000000\n",
      "\t[Modular]  Ber = 0.00555400 | Bler =0.32450000 - 6.82436s\n",
      "\t[Baseline] Ber = 0.01582400 | Bler =0.40750000 - 39.79702s\n",
      "SNR_dB = 9.000000\n",
      "\t[Modular]  Ber = 0.00028000 | Bler =0.02000000 - 6.87198s\n",
      "\t[Baseline] Ber = 0.00152800 | Bler =0.06000000 - 40.07055s\n",
      "SNR_dB = 10.000000\n",
      "\t[Modular]  Ber = 0.00004800 | Bler =0.00320000 - 7.27788s\n",
      "\t[Baseline] Ber = 0.00054400 | Bler =0.02480000 - 43.61095s\n",
      "SNR_dB = 11.000000\n",
      "\t[Modular]  Ber = 0.00000800 | Bler =0.00080000 - 6.90145s\n",
      "\t[Baseline] Ber = 0.00008000 | Bler =0.00560000 - 40.69749s\n",
      "SNR_dB = 13.000000\n",
      "\t[Modular]  Ber = 0.00000000 | Bler =0.00000000 - 6.94704s\n",
      "\t[Baseline] Ber = 0.00000000 | Bler =0.00000000 - 40.67444s\n"
     ]
    }
   ],
   "source": [
    "model.save('end2end.hdf5')\n",
    "\n",
    "end2end_receiver = End2EndReceiver('end2end.hdf5', data_length=100)\n",
    "\n",
    "class Params:\n",
    "    SNR_RANGE = [0.0, 3.0, 5.0, 7.0, 9.0, 10.0, 11.0, 13.0]\n",
    "    NUM_SAMPLES = 10000\n",
    "    BLOCK_LENGTH = 100\n",
    "    BPSK, QPSK, QAM16, QAM64 = 2, 4, 16, 64\n",
    "    \n",
    "ber_logs, bler_logs = [], []\n",
    "for i, snr in enumerate(Params.SNR_RANGE):\n",
    "    print('SNR_dB = %f' % snr)\n",
    "    (original_bits, _, noisy_signals) = signal_generator(\n",
    "        modem, Params.NUM_SAMPLES, Params.BLOCK_LENGTH, snr)\n",
    "    \n",
    "    # Run Baseline/Neral Receiver\n",
    "    t1 = time.time()\n",
    "    with mp.Pool(mp.cpu_count()) as pool:\n",
    "        baseline_estimated = pool.map(baseline_receiver, [i for i in noisy_signals])\n",
    "        \n",
    "    t2 = time.time()\n",
    "    \n",
    "    nn_estimated = end2end_receiver(np.array(noisy_signals)[:, :100], 128)\n",
    "    \n",
    "    t3 = time.time()\n",
    "    \n",
    "    # Measure BER / BKER for two receivers\n",
    "    ber, bler = radioml_utils.get_ber_bler(np.array(baseline_estimated)[:, :100], original_bits)\n",
    "    nn_ber, nn_bler = radioml_utils.get_ber_bler(nn_estimated, original_bits)\n",
    "    print('\\t[Modular]  Ber = {:.8f} | Bler ={:.8f} - {:3.5f}s'.format(nn_ber, nn_bler, t3 - t2))\n",
    "    print('\\t[Baseline] Ber = {:.8f} | Bler ={:.8f} - {:3.5f}s'.format(ber, bler, t2-t1))\n",
    "    \n",
    "    ber_logs.append([ber, nn_ber])\n",
    "    bler_logs.append([bler, nn_bler])\n",
    "    "
   ]
  },
  {
   "cell_type": "code",
   "execution_count": 16,
   "metadata": {
    "colab": {
     "autoexec": {
      "startup": false,
      "wait_interval": 0
     },
     "base_uri": "https://localhost:8080/",
     "height": 388
    },
    "colab_type": "code",
    "executionInfo": {
     "elapsed": 872,
     "status": "ok",
     "timestamp": 1532421527210,
     "user": {
      "displayName": "Dat Nguyen",
      "photoUrl": "//lh3.googleusercontent.com/-irIcNYd-KIw/AAAAAAAAAAI/AAAAAAAAAEs/NlM8kG6RL4Q/s50-c-k-no/photo.jpg",
      "userId": "108917076199533451784"
     },
     "user_tz": 420
    },
    "id": "NCXingcnbq1s",
    "outputId": "821fd1e4-fc34-4557-c3aa-7304d59201de"
   },
   "outputs": [
    {
     "data": {
      "image/png": "[encoded data removed]",
      "text/plain": [
       "<Figure size 1152x432 with 2 Axes>"
      ]
     },
     "metadata": {},
     "output_type": "display_data"
    }
   ],
   "source": [
    "_, (ax1, ax2) = plt.subplots(1, 2, figsize=(16, 6))\n",
    "radioml_utils.visualize_ber_bler(ax1, ax2, ber_logs, bler_logs, Params.SNR_RANGE)\n",
    "ax1.semilogy()\n",
    "_=ax2.semilogy()"
   ]
  },
  {
   "cell_type": "code",
   "execution_count": null,
   "metadata": {},
   "outputs": [],
   "source": []
  }
 ],
 "metadata": {
  "accelerator": "GPU",
  "colab": {
   "collapsed_sections": [],
   "default_view": {},
   "name": "RadioMLReceiver.ipynb",
   "provenance": [
    {
     "file_id": "https://github.com/datlife/radioml/blob/master/notebooks/Train_End2End_Reciver.ipynb",
     "timestamp": 1532370400196
    }
   ],
   "version": "0.3.2",
   "views": {}
  },
  "kernelspec": {
   "display_name": "deepcom",
   "language": "python",
   "name": "deepcom"
  },
  "language_info": {
   "codemirror_mode": {
    "name": "ipython",
    "version": 3
   },
   "file_extension": ".py",
   "mimetype": "text/x-python",
   "name": "python",
   "nbconvert_exporter": "python",
   "pygments_lexer": "ipython3",
   "version": "3.6.5"
  }
 },
 "nbformat": 4,
 "nbformat_minor": 1
}
