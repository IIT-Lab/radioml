{
  "nbformat": 4,
  "nbformat_minor": 0,
  "metadata": {
    "colab": {
      "name": "Train_End2End_Reciver.ipynb",
      "version": "0.3.2",
      "views": {},
      "default_view": {},
      "provenance": [
        {
          "file_id": "https://github.com/datlife/radioml/blob/master/notebooks/Train_End2End_Reciver.ipynb",
          "timestamp": 1532370400196
        }
      ]
    },
    "kernelspec": {
      "display_name": "Python 3",
      "language": "python",
      "name": "python3"
    },
    "accelerator": "GPU"
  },
  "cells": [
    {
      "metadata": {
        "id": "esjtjtrdY69s",
        "colab_type": "code",
        "colab": {
          "autoexec": {
            "startup": false,
            "wait_interval": 0
          },
          "base_uri": "https://localhost:8080/",
          "height": 183
        },
        "outputId": "ea05db8e-c2dc-4420-b933-f0fd91e8151e",
        "executionInfo": {
          "status": "ok",
          "timestamp": 1532371425706,
          "user_tz": 420,
          "elapsed": 5402,
          "user": {
            "displayName": "Dat Nguyen",
            "photoUrl": "//lh3.googleusercontent.com/-irIcNYd-KIw/AAAAAAAAAAI/AAAAAAAAAEs/NlM8kG6RL4Q/s50-c-k-no/photo.jpg",
            "userId": "108917076199533451784"
          }
        }
      },
      "cell_type": "code",
      "source": [
        "# Download and Install Commpy\n",
        "!git clone --quiet https://github.com/datlife/CommPy\n",
        "!cd CommPy && git checkout master && python setup.py install > /dev/null\n",
        "print('CommPy library is installed.')\n",
        "\n",
        "# Download and Install DeepCom\n",
        "!git clone --quiet https://github.com/datlife/radioml\n",
        "!mv radioml ./backup && mv backup/radioml radioml\n",
        "\n",
        "# Import local module `deepcom`\n",
        "import sys\n",
        "sys.path.append('radioml')\n",
        "print('radioml is installed.')"
      ],
      "execution_count": 1,
      "outputs": [
        {
          "output_type": "stream",
          "text": [
            "fatal: destination path 'CommPy' already exists and is not an empty directory.\n",
            "Already on 'master'\n",
            "Your branch is up-to-date with 'origin/master'.\n",
            "warning: no files found matching '*.rst'\n",
            "warning: no files found matching 'README'\n",
            "zip_safe flag not set; analyzing archive contents...\n",
            "commpy.channelcoding.tests.__pycache__.test_ldpc.cpython-36: module references __file__\n",
            "CommPy library is installed.\n",
            "fatal: destination path 'radioml' already exists and is not an empty directory.\n",
            "radioml is installed.\n"
          ],
          "name": "stdout"
        }
      ]
    },
    {
      "metadata": {
        "id": "aqYL0gPfY5V8",
        "colab_type": "code",
        "colab": {
          "autoexec": {
            "startup": false,
            "wait_interval": 0
          }
        }
      },
      "cell_type": "code",
      "source": [
        "import multiprocessing as mp\n",
        "import numpy as np\n",
        "import commpy as cp\n",
        "from commpy.channelcoding import Trellis\n",
        "from commpy.modulation import QAMModem, PSKModem\n",
        "\n",
        "# For visualization\n",
        "import pylab\n",
        "import matplotlib.pyplot as plt\n",
        "import matplotlib.gridspec as gridspec\n",
        "import seaborn as sns\n",
        "sns.set()"
      ],
      "execution_count": 0,
      "outputs": []
    },
    {
      "metadata": {
        "id": "uUkGsBo8Y5XW",
        "colab_type": "text"
      },
      "cell_type": "markdown",
      "source": [
        "## Define Hyper-parameters"
      ]
    },
    {
      "metadata": {
        "id": "-4vqq3NBY5Xa",
        "colab_type": "code",
        "colab": {
          "autoexec": {
            "startup": false,
            "wait_interval": 0
          }
        }
      },
      "cell_type": "code",
      "source": [
        "NUM_EXAMPLES = 200000 # 200k examples\n",
        "BLOCK_LEN = 100\n",
        "SNR_MAX   = 10.0 # [0.5,1] 100 \n",
        "SNR       = SNR_MAX \n",
        "\n",
        "modem = QAMModem(4)  # Constellation  QAM16\n",
        "trellis = Trellis(memory   = np.array([2]), \n",
        "                  g_matrix = np.array([[0o7, 0o5]]) , \n",
        "                  feedback = 0o7)"
      ],
      "execution_count": 0,
      "outputs": []
    },
    {
      "metadata": {
        "id": "UpynhPn2Y5Xr",
        "colab_type": "code",
        "colab": {
          "autoexec": {
            "startup": false,
            "wait_interval": 0
          }
        }
      },
      "cell_type": "code",
      "source": [
        "def generate_signal_over_awgn(modem, block_length=100, snr_dB=15.0):\n",
        "    message_bits   = np.random.randint(0, 2, block_length)\n",
        "    encoded_bits   = cp.channelcoding.conv_encode(message_bits, trellis)\n",
        "    modulated_bits = modem.modulate(encoded_bits)\n",
        "    corrupted_bits = cp.channels.awgn(modulated_bits, snr_dB, rate=1/2)\n",
        "    \n",
        "    return message_bits, modulated_bits, corrupted_bits\n",
        "\n",
        "def signal_generator(modulation_scheme, num_examples, block_length, snr_dB, \n",
        "                     seed=2018):\n",
        "    np.random.seed(seed)\n",
        "    with mp.Pool(mp.cpu_count()) as pool:\n",
        "        result = pool.starmap(generate_signal_over_awgn,\n",
        "                iterable=[(modulation_scheme, block_length, snr_dB) \\\n",
        "                          for i in range(num_examples)])\n",
        "        orignal_msg_bits, moded_bits, noisy_outputs = zip(*result)\n",
        "    np.random.seed()\n",
        "    return (np.array(orignal_msg_bits), np.array(moded_bits), np.array(noisy_outputs))"
      ],
      "execution_count": 0,
      "outputs": []
    },
    {
      "metadata": {
        "id": "4KThGWaoY5X-",
        "colab_type": "text"
      },
      "cell_type": "markdown",
      "source": [
        "## Train a RNN to estimate original message over noisy AWGN channel."
      ]
    },
    {
      "metadata": {
        "id": "hvwKBShPY5YA",
        "colab_type": "text"
      },
      "cell_type": "markdown",
      "source": [
        "### Split data into training/dev/test"
      ]
    },
    {
      "metadata": {
        "id": "bqEXxZKtY5YE",
        "colab_type": "text"
      },
      "cell_type": "markdown",
      "source": [
        "* Dev and Test set should have similar distribution.\n",
        "* Split into 80/10/10.\n",
        "* Adopt from : https://cs230-stanford.github.io/train-dev-test-split.html"
      ]
    },
    {
      "metadata": {
        "id": "38VLHq-xY5YI",
        "colab_type": "code",
        "colab": {
          "autoexec": {
            "startup": false,
            "wait_interval": 0
          },
          "base_uri": "https://localhost:8080/",
          "height": 33
        },
        "outputId": "10b5e9a7-457d-433a-8f7e-efcf3225db8f",
        "executionInfo": {
          "status": "ok",
          "timestamp": 1532371688605,
          "user_tz": 420,
          "elapsed": 255536,
          "user": {
            "displayName": "Dat Nguyen",
            "photoUrl": "//lh3.googleusercontent.com/-irIcNYd-KIw/AAAAAAAAAAI/AAAAAAAAAEs/NlM8kG6RL4Q/s50-c-k-no/photo.jpg",
            "userId": "108917076199533451784"
          }
        }
      },
      "cell_type": "code",
      "source": [
        "import random \n",
        "\n",
        "# Generate data for training\n",
        "original_bits, clean_signals, noisy_signals = signal_generator(modem, NUM_EXAMPLES, BLOCK_LEN, SNR)\n",
        "\n",
        "# Split data into train/dev/test\n",
        "dataset = list(zip(noisy_signals, original_bits))\n",
        "\n",
        "# Shuffle Before splitting the data\n",
        "# random.shuffle(dataset)\n",
        "split1 = int(0.8 * len(dataset))\n",
        "split2 = int(0.9 * len(dataset))\n",
        "train_set = dataset[:split1]\n",
        "dev_set = dataset[split1:split2]\n",
        "test_set = dataset[split2:]\n",
        "\n",
        "print(len(train_set), len(dev_set), len(test_set))"
      ],
      "execution_count": 5,
      "outputs": [
        {
          "output_type": "stream",
          "text": [
            "160000 20000 20000\n"
          ],
          "name": "stdout"
        }
      ]
    },
    {
      "metadata": {
        "id": "jNhexXJqY5Ye",
        "colab_type": "code",
        "colab": {
          "autoexec": {
            "startup": false,
            "wait_interval": 0
          },
          "base_uri": "https://localhost:8080/",
          "height": 66
        },
        "outputId": "5f3a38b8-27a0-47f7-e51f-97ca3a55f670",
        "executionInfo": {
          "status": "ok",
          "timestamp": 1532371690813,
          "user_tz": 420,
          "elapsed": 1698,
          "user": {
            "displayName": "Dat Nguyen",
            "photoUrl": "//lh3.googleusercontent.com/-irIcNYd-KIw/AAAAAAAAAAI/AAAAAAAAAEs/NlM8kG6RL4Q/s50-c-k-no/photo.jpg",
            "userId": "108917076199533451784"
          }
        }
      },
      "cell_type": "code",
      "source": [
        "def get_trainable_data(x, y):\n",
        "    \"\"\"Encode complex numbers to trainable data and one_hot labels\"\"\"\n",
        "    x = np.array(x)[:, :100]\n",
        "    y = np.array(y)\n",
        "    x = np.stack((x.real, x.imag), axis=-1)\n",
        "    y = np.expand_dims(y, -1)  # (batch, block_length, 1)\n",
        "    return x, y\n",
        "\n",
        "x_train, y_train = zip(*train_set)\n",
        "x_dev, y_dev = zip(*dev_set)\n",
        "x_test, y_test = zip(*test_set)\n",
        "\n",
        "X_train, Y_train = get_trainable_data(x_train, y_train)\n",
        "X_dev, Y_dev = get_trainable_data(x_dev, y_dev)\n",
        "X_test, Y_test = get_trainable_data(x_test, y_test)\n",
        "\n",
        "print('Training data')\n",
        "print('Trainable data:', X_train.shape, X_dev.shape, X_test.shape)\n",
        "print('Groundtruths  :', Y_train.shape, Y_dev.shape, Y_test.shape)"
      ],
      "execution_count": 6,
      "outputs": [
        {
          "output_type": "stream",
          "text": [
            "Training data\n",
            "Trainable data: (160000, 100, 2) (20000, 100, 2) (20000, 100, 2)\n",
            "Groundtruths  : (160000, 100, 1) (20000, 100, 1) (20000, 100, 1)\n"
          ],
          "name": "stdout"
        }
      ]
    },
    {
      "metadata": {
        "id": "lT3-iXx3Y5Y7",
        "colab_type": "code",
        "colab": {
          "autoexec": {
            "startup": false,
            "wait_interval": 0
          },
          "base_uri": "https://localhost:8080/",
          "height": 363
        },
        "outputId": "dfcf6cdf-55db-4361-9173-9816d698b796",
        "executionInfo": {
          "status": "ok",
          "timestamp": 1532371698608,
          "user_tz": 420,
          "elapsed": 7374,
          "user": {
            "displayName": "Dat Nguyen",
            "photoUrl": "//lh3.googleusercontent.com/-irIcNYd-KIw/AAAAAAAAAAI/AAAAAAAAAEs/NlM8kG6RL4Q/s50-c-k-no/photo.jpg",
            "userId": "108917076199533451784"
          }
        }
      },
      "cell_type": "code",
      "source": [
        "inputs = noisy_signals.flatten()[0:1000]\n",
        "_, groundtruths = np.unique(clean_signals, return_inverse=True)\n",
        "plt.scatter(np.real(inputs), np.imag(inputs), c=groundtruths[0:1000])"
      ],
      "execution_count": 7,
      "outputs": [
        {
          "output_type": "execute_result",
          "data": {
            "text/plain": [
              "<matplotlib.collections.PathCollection at 0x7f1be6a15630>"
            ]
          },
          "metadata": {
            "tags": []
          },
          "execution_count": 7
        },
        {
          "output_type": "display_data",
          "data": {
            "image/png": "[encoded data removed]",
            "text/plain": [
              "<matplotlib.figure.Figure at 0x7f1c0d137f60>"
            ]
          },
          "metadata": {
            "tags": []
          }
        }
      ]
    },
    {
      "metadata": {
        "id": "fzIgWXzhY5ZN",
        "colab_type": "text"
      },
      "cell_type": "markdown",
      "source": [
        "###  Esimate optimal performance using baseline\n"
      ]
    },
    {
      "metadata": {
        "id": "UrXMpwthY5ZR",
        "colab_type": "code",
        "colab": {
          "autoexec": {
            "startup": false,
            "wait_interval": 0
          },
          "base_uri": "https://localhost:8080/",
          "height": 50
        },
        "outputId": "434264bc-2b27-4533-f19e-0f6c7229da6f",
        "executionInfo": {
          "status": "ok",
          "timestamp": 1532372107033,
          "user_tz": 420,
          "elapsed": 408139,
          "user": {
            "displayName": "Dat Nguyen",
            "photoUrl": "//lh3.googleusercontent.com/-irIcNYd-KIw/AAAAAAAAAAI/AAAAAAAAAEs/NlM8kG6RL4Q/s50-c-k-no/photo.jpg",
            "userId": "108917076199533451784"
          }
        }
      },
      "cell_type": "code",
      "source": [
        "from radioml.radio_receivers import ModularReceiver\n",
        "from radioml.demodulators import ClassicDemodulator\n",
        "from radioml.decoders import ViterbiDecoder\n",
        "from radioml.utils import get_ber_bler\n",
        "\n",
        "classic_demod   = ClassicDemodulator(modem)\n",
        "viterbi_decoder = ViterbiDecoder(trellis, tb_depth=15, decoding_type='hard')\n",
        "\n",
        "baseline_receiver = ModularReceiver(classic_demod, viterbi_decoder)\n",
        "\n",
        "with mp.Pool(mp.cpu_count()) as pool:\n",
        "    baseline_estimated = pool.map(baseline_receiver, [i for i in x_dev])\n",
        "\n",
        "ber, bler        = get_ber_bler(np.array(baseline_estimated)[:, :100], \n",
        "                                      y_dev)\n",
        "print('Optimal BER: %.4f' % ber)\n",
        "print('Optimal BLER: %.5f' % bler)"
      ],
      "execution_count": 8,
      "outputs": [
        {
          "output_type": "stream",
          "text": [
            "Optimal BER: 0.0003\n",
            "Optimal BLER: 0.01625\n"
          ],
          "name": "stdout"
        }
      ]
    },
    {
      "metadata": {
        "id": "i0C-2QYyY5Zf",
        "colab_type": "text"
      },
      "cell_type": "markdown",
      "source": [
        "### Define a Recurrent  Neural network for estimating orginal message"
      ]
    },
    {
      "metadata": {
        "id": "JcozPuNKY5Zh",
        "colab_type": "code",
        "colab": {
          "autoexec": {
            "startup": false,
            "wait_interval": 0
          },
          "base_uri": "https://localhost:8080/",
          "height": 333
        },
        "outputId": "6ac184bc-8e66-4afd-d469-f2755d5e2dbe",
        "executionInfo": {
          "status": "ok",
          "timestamp": 1532372110341,
          "user_tz": 420,
          "elapsed": 2085,
          "user": {
            "displayName": "Dat Nguyen",
            "photoUrl": "//lh3.googleusercontent.com/-irIcNYd-KIw/AAAAAAAAAAI/AAAAAAAAAEs/NlM8kG6RL4Q/s50-c-k-no/photo.jpg",
            "userId": "108917076199533451784"
          }
        }
      },
      "cell_type": "code",
      "source": [
        "## Simple Classification\n",
        "import tensorflow as tf\n",
        "from tensorflow.keras.layers import Input, Dense, BatchNormalization\n",
        "from tensorflow.keras.layers import GRU, Bidirectional, TimeDistributed\n",
        "tf.keras.backend.clear_session()\n",
        "\n",
        "num_hidden_layers = 2\n",
        "num_hidden_units = 400\n",
        "dropout_rate = 0.3\n",
        "\n",
        "\n",
        "inputs  = Input(shape=(None, 2))\n",
        "x = inputs\n",
        "for _ in range(num_hidden_layers):\n",
        "    x = Bidirectional(GRU(\n",
        "        units=num_hidden_units,\n",
        "        return_sequences=True,\n",
        "        recurrent_dropout=dropout_rate))(x)\n",
        "    x = BatchNormalization()(x)\n",
        "    \n",
        "outputs = TimeDistributed(Dense(1, activation='sigmoid'))(x)\n",
        "\n",
        "model = tf.keras.Model(inputs, outputs)\n",
        "model.summary()"
      ],
      "execution_count": 9,
      "outputs": [
        {
          "output_type": "stream",
          "text": [
            "_________________________________________________________________\n",
            "Layer (type)                 Output Shape              Param #   \n",
            "=================================================================\n",
            "input_1 (InputLayer)         (None, None, 2)           0         \n",
            "_________________________________________________________________\n",
            "bidirectional (Bidirectional (None, None, 800)         967200    \n",
            "_________________________________________________________________\n",
            "batch_normalization (BatchNo (None, None, 800)         3200      \n",
            "_________________________________________________________________\n",
            "bidirectional_1 (Bidirection (None, None, 800)         2882400   \n",
            "_________________________________________________________________\n",
            "batch_normalization_1 (Batch (None, None, 800)         3200      \n",
            "_________________________________________________________________\n",
            "time_distributed (TimeDistri (None, None, 1)           801       \n",
            "=================================================================\n",
            "Total params: 3,856,801\n",
            "Trainable params: 3,853,601\n",
            "Non-trainable params: 3,200\n",
            "_________________________________________________________________\n"
          ],
          "name": "stdout"
        }
      ]
    },
    {
      "metadata": {
        "id": "abHjTgDgY5Zw",
        "colab_type": "code",
        "colab": {
          "autoexec": {
            "startup": false,
            "wait_interval": 0
          },
          "base_uri": "https://localhost:8080/",
          "height": 170
        },
        "outputId": "02439899-7311-4486-89a9-857d296decf3",
        "executionInfo": {
          "status": "ok",
          "timestamp": 1532373983243,
          "user_tz": 420,
          "elapsed": 1872085,
          "user": {
            "displayName": "Dat Nguyen",
            "photoUrl": "//lh3.googleusercontent.com/-irIcNYd-KIw/AAAAAAAAAAI/AAAAAAAAAEs/NlM8kG6RL4Q/s50-c-k-no/photo.jpg",
            "userId": "108917076199533451784"
          }
        }
      },
      "cell_type": "code",
      "source": [
        "def BER(y, y_pred):\n",
        "    hamming_distances =  tf.cast(tf.not_equal(y, tf.round(y_pred)), tf.int32)\n",
        "    return tf.reduce_sum(hamming_distances) / tf.size(y)\n",
        "\n",
        "def BLER(y, y_pred):\n",
        "    num_blocks_per_batch = tf.cast(tf.shape(y)[0], tf.int64)\n",
        "    hamming_distances =  tf.cast(tf.not_equal(y, tf.round(y_pred)), tf.int32)\n",
        "    return tf.count_nonzero(tf.reduce_sum(hamming_distances, axis=1)) / num_blocks_per_batch\n",
        "\n",
        "model.compile('adam','mse', metrics=[BER, BLER])\n",
        "model.fit(X_train, Y_train, \n",
        "          validation_data=(X_dev, Y_dev), \n",
        "          epochs=3, batch_size=512)"
      ],
      "execution_count": 10,
      "outputs": [
        {
          "output_type": "stream",
          "text": [
            "Train on 160000 samples, validate on 20000 samples\n",
            "Epoch 1/3\n",
            "160000/160000 [==============================] - 626s 4ms/step - loss: 0.0134 - BER: 0.0167 - BLER: 0.6750 - val_loss: 0.0148 - val_BER: 0.0116 - val_BLER: 0.6782\n",
            "Epoch 2/3\n",
            " 73728/160000 [============>.................] - ETA: 5:21 - loss: 0.0015 - BER: 0.0019 - BLER: 0.1596"
          ],
          "name": "stdout"
        },
        {
          "output_type": "stream",
          "text": [
            "160000/160000 [==============================] - 621s 4ms/step - loss: 0.0011 - BER: 0.0014 - BLER: 0.1236 - val_loss: 6.2392e-04 - val_BER: 7.9650e-04 - val_BLER: 0.0728\n",
            "Epoch 3/3\n",
            "144896/160000 [==========================>...] - ETA: 56s - loss: 5.7237e-04 - BER: 7.1541e-04 - BLER: 0.0649"
          ],
          "name": "stdout"
        },
        {
          "output_type": "stream",
          "text": [
            "160000/160000 [==============================] - 621s 4ms/step - loss: 5.5788e-04 - BER: 6.9625e-04 - BLER: 0.0632 - val_loss: 3.5007e-04 - val_BER: 4.4450e-04 - val_BLER: 0.0398\n"
          ],
          "name": "stdout"
        },
        {
          "output_type": "execute_result",
          "data": {
            "text/plain": [
              "<tensorflow.python.keras.callbacks.History at 0x7f1b9e5c2780>"
            ]
          },
          "metadata": {
            "tags": []
          },
          "execution_count": 10
        }
      ]
    },
    {
      "metadata": {
        "id": "P0WY-BXtY5Z9",
        "colab_type": "code",
        "colab": {
          "autoexec": {
            "startup": false,
            "wait_interval": 0
          },
          "base_uri": "https://localhost:8080/",
          "height": 50
        },
        "outputId": "d607f93a-d35a-471b-8251-53a574447393",
        "executionInfo": {
          "status": "ok",
          "timestamp": 1532374390499,
          "user_tz": 420,
          "elapsed": 406851,
          "user": {
            "displayName": "Dat Nguyen",
            "photoUrl": "//lh3.googleusercontent.com/-irIcNYd-KIw/AAAAAAAAAAI/AAAAAAAAAEs/NlM8kG6RL4Q/s50-c-k-no/photo.jpg",
            "userId": "108917076199533451784"
          }
        }
      },
      "cell_type": "code",
      "source": [
        "with mp.Pool(mp.cpu_count()) as pool:\n",
        "    baseline_estimated = pool.map(baseline_receiver, [i for i in x_test])\n",
        "\n",
        "ber, bler = get_ber_bler(np.array(baseline_estimated)[:, :100], y_test)\n",
        "print('Optimal BER: %.4f' % ber)\n",
        "print('Optimal BLER: %.5f' % bler)"
      ],
      "execution_count": 11,
      "outputs": [
        {
          "output_type": "stream",
          "text": [
            "Optimal BER: 0.0003\n",
            "Optimal BLER: 0.01670\n"
          ],
          "name": "stdout"
        }
      ]
    },
    {
      "metadata": {
        "id": "VPffA7BXY5ab",
        "colab_type": "code",
        "colab": {
          "autoexec": {
            "startup": false,
            "wait_interval": 0
          },
          "base_uri": "https://localhost:8080/",
          "height": 50
        },
        "outputId": "935d1322-b99e-4692-c1e6-324fa7efc555",
        "executionInfo": {
          "status": "ok",
          "timestamp": 1532374416884,
          "user_tz": 420,
          "elapsed": 25116,
          "user": {
            "displayName": "Dat Nguyen",
            "photoUrl": "//lh3.googleusercontent.com/-irIcNYd-KIw/AAAAAAAAAAI/AAAAAAAAAEs/NlM8kG6RL4Q/s50-c-k-no/photo.jpg",
            "userId": "108917076199533451784"
          }
        }
      },
      "cell_type": "code",
      "source": [
        "# _, ber, bler = model.evaluate(X_test, Y_test)\n",
        "predictions = model.predict(X_test, batch_size=512)\n",
        "estimated = np.squeeze(predictions, -1).round()\n",
        "\n",
        "ber, bler = get_ber_bler(np.array(estimated), y_test)\n",
        "print('BER: %f' % ber)\n",
        "print('BLER: %f' % bler)"
      ],
      "execution_count": 12,
      "outputs": [
        {
          "output_type": "stream",
          "text": [
            "BER: 0.000432\n",
            "BLER: 0.038950\n"
          ],
          "name": "stdout"
        }
      ]
    },
    {
      "metadata": {
        "id": "PPD7H4kOY5a_",
        "colab_type": "code",
        "colab": {
          "autoexec": {
            "startup": false,
            "wait_interval": 0
          },
          "base_uri": "https://localhost:8080/",
          "height": 800
        },
        "outputId": "b2631c99-0c74-4296-90cf-5f966c3d2acc",
        "executionInfo": {
          "status": "error",
          "timestamp": 1532380315308,
          "user_tz": 420,
          "elapsed": 1289650,
          "user": {
            "displayName": "Dat Nguyen",
            "photoUrl": "//lh3.googleusercontent.com/-irIcNYd-KIw/AAAAAAAAAAI/AAAAAAAAAEs/NlM8kG6RL4Q/s50-c-k-no/photo.jpg",
            "userId": "108917076199533451784"
          }
        }
      },
      "cell_type": "code",
      "source": [
        "model.fit(X_train, Y_train, \n",
        "          validation_data=(X_dev, Y_dev), \n",
        "          epochs=5, batch_size=512)"
      ],
      "execution_count": 37,
      "outputs": [
        {
          "output_type": "stream",
          "text": [
            "Train on 160000 samples, validate on 20000 samples\n",
            "Epoch 1/5\n",
            "160000/160000 [==============================] - 621s 4ms/step - loss: 1.0307e-04 - BER: 1.2675e-04 - BLER: 0.0106 - val_loss: 6.3797e-05 - val_BER: 8.1000e-05 - val_BLER: 0.0065\n",
            "Epoch 2/5\n",
            " 65536/160000 [===========>..................] - ETA: 5:52 - loss: 2.6235e-04 - BER: 3.2852e-04 - BLER: 0.0260"
          ],
          "name": "stdout"
        },
        {
          "output_type": "stream",
          "text": [
            "160000/160000 [==============================] - 621s 4ms/step - loss: 1.8797e-04 - BER: 2.3563e-04 - BLER: 0.0187 - val_loss: 5.3836e-05 - val_BER: 6.0000e-05 - val_BLER: 0.0046\n",
            "Epoch 3/5\n",
            " 12288/160000 [=>............................] - ETA: 9:10 - loss: 9.3319e-05 - BER: 1.1393e-04 - BLER: 0.0094"
          ],
          "name": "stdout"
        },
        {
          "output_type": "error",
          "ename": "KeyboardInterrupt",
          "evalue": "ignored",
          "traceback": [
            "\u001b[0;31m---------------------------------------------------------------------------\u001b[0m",
            "\u001b[0;31mKeyboardInterrupt\u001b[0m                         Traceback (most recent call last)",
            "\u001b[0;32m<ipython-input-37-5f61be15ca11>\u001b[0m in \u001b[0;36m<module>\u001b[0;34m()\u001b[0m\n\u001b[1;32m      1\u001b[0m model.fit(X_train, Y_train, \n\u001b[1;32m      2\u001b[0m           \u001b[0mvalidation_data\u001b[0m\u001b[0;34m=\u001b[0m\u001b[0;34m(\u001b[0m\u001b[0mX_dev\u001b[0m\u001b[0;34m,\u001b[0m \u001b[0mY_dev\u001b[0m\u001b[0;34m)\u001b[0m\u001b[0;34m,\u001b[0m\u001b[0;34m\u001b[0m\u001b[0m\n\u001b[0;32m----> 3\u001b[0;31m           epochs=5, batch_size=512)\n\u001b[0m",
            "\u001b[0;32m/usr/local/lib/python3.6/dist-packages/tensorflow/python/keras/engine/training.py\u001b[0m in \u001b[0;36mfit\u001b[0;34m(self, x, y, batch_size, epochs, verbose, callbacks, validation_split, validation_data, shuffle, class_weight, sample_weight, initial_epoch, steps_per_epoch, validation_steps, **kwargs)\u001b[0m\n\u001b[1;32m   1346\u001b[0m           \u001b[0minitial_epoch\u001b[0m\u001b[0;34m=\u001b[0m\u001b[0minitial_epoch\u001b[0m\u001b[0;34m,\u001b[0m\u001b[0;34m\u001b[0m\u001b[0m\n\u001b[1;32m   1347\u001b[0m           \u001b[0msteps_per_epoch\u001b[0m\u001b[0;34m=\u001b[0m\u001b[0msteps_per_epoch\u001b[0m\u001b[0;34m,\u001b[0m\u001b[0;34m\u001b[0m\u001b[0m\n\u001b[0;32m-> 1348\u001b[0;31m           validation_steps=validation_steps)\n\u001b[0m\u001b[1;32m   1349\u001b[0m \u001b[0;34m\u001b[0m\u001b[0m\n\u001b[1;32m   1350\u001b[0m   def evaluate(self,\n",
            "\u001b[0;32m/usr/local/lib/python3.6/dist-packages/tensorflow/python/keras/engine/training_arrays.py\u001b[0m in \u001b[0;36mfit_loop\u001b[0;34m(model, inputs, targets, sample_weights, batch_size, epochs, verbose, callbacks, val_inputs, val_targets, val_sample_weights, shuffle, callback_metrics, initial_epoch, steps_per_epoch, validation_steps)\u001b[0m\n\u001b[1;32m    251\u001b[0m           \u001b[0mins_batch\u001b[0m\u001b[0;34m[\u001b[0m\u001b[0mi\u001b[0m\u001b[0;34m]\u001b[0m \u001b[0;34m=\u001b[0m \u001b[0mins_batch\u001b[0m\u001b[0;34m[\u001b[0m\u001b[0mi\u001b[0m\u001b[0;34m]\u001b[0m\u001b[0;34m.\u001b[0m\u001b[0mtoarray\u001b[0m\u001b[0;34m(\u001b[0m\u001b[0;34m)\u001b[0m\u001b[0;34m\u001b[0m\u001b[0m\n\u001b[1;32m    252\u001b[0m \u001b[0;34m\u001b[0m\u001b[0m\n\u001b[0;32m--> 253\u001b[0;31m         \u001b[0mouts\u001b[0m \u001b[0;34m=\u001b[0m \u001b[0mf\u001b[0m\u001b[0;34m(\u001b[0m\u001b[0mins_batch\u001b[0m\u001b[0;34m)\u001b[0m\u001b[0;34m\u001b[0m\u001b[0m\n\u001b[0m\u001b[1;32m    254\u001b[0m         \u001b[0;32mif\u001b[0m \u001b[0;32mnot\u001b[0m \u001b[0misinstance\u001b[0m\u001b[0;34m(\u001b[0m\u001b[0mouts\u001b[0m\u001b[0;34m,\u001b[0m \u001b[0mlist\u001b[0m\u001b[0;34m)\u001b[0m\u001b[0;34m:\u001b[0m\u001b[0;34m\u001b[0m\u001b[0m\n\u001b[1;32m    255\u001b[0m           \u001b[0mouts\u001b[0m \u001b[0;34m=\u001b[0m \u001b[0;34m[\u001b[0m\u001b[0mouts\u001b[0m\u001b[0;34m]\u001b[0m\u001b[0;34m\u001b[0m\u001b[0m\n",
            "\u001b[0;32m/usr/local/lib/python3.6/dist-packages/tensorflow/python/keras/backend.py\u001b[0m in \u001b[0;36m__call__\u001b[0;34m(self, inputs)\u001b[0m\n\u001b[1;32m   2895\u001b[0m       \u001b[0mself\u001b[0m\u001b[0;34m.\u001b[0m\u001b[0m_make_callable\u001b[0m\u001b[0;34m(\u001b[0m\u001b[0mfeed_arrays\u001b[0m\u001b[0;34m,\u001b[0m \u001b[0mfeed_symbols\u001b[0m\u001b[0;34m,\u001b[0m \u001b[0msymbol_vals\u001b[0m\u001b[0;34m,\u001b[0m \u001b[0msession\u001b[0m\u001b[0;34m)\u001b[0m\u001b[0;34m\u001b[0m\u001b[0m\n\u001b[1;32m   2896\u001b[0m \u001b[0;34m\u001b[0m\u001b[0m\n\u001b[0;32m-> 2897\u001b[0;31m     \u001b[0mfetched\u001b[0m \u001b[0;34m=\u001b[0m \u001b[0mself\u001b[0m\u001b[0;34m.\u001b[0m\u001b[0m_callable_fn\u001b[0m\u001b[0;34m(\u001b[0m\u001b[0;34m*\u001b[0m\u001b[0marray_vals\u001b[0m\u001b[0;34m)\u001b[0m\u001b[0;34m\u001b[0m\u001b[0m\n\u001b[0m\u001b[1;32m   2898\u001b[0m     \u001b[0;32mreturn\u001b[0m \u001b[0mfetched\u001b[0m\u001b[0;34m[\u001b[0m\u001b[0;34m:\u001b[0m\u001b[0mlen\u001b[0m\u001b[0;34m(\u001b[0m\u001b[0mself\u001b[0m\u001b[0;34m.\u001b[0m\u001b[0moutputs\u001b[0m\u001b[0;34m)\u001b[0m\u001b[0;34m]\u001b[0m\u001b[0;34m\u001b[0m\u001b[0m\n\u001b[1;32m   2899\u001b[0m \u001b[0;34m\u001b[0m\u001b[0m\n",
            "\u001b[0;32m/usr/local/lib/python3.6/dist-packages/tensorflow/python/client/session.py\u001b[0m in \u001b[0;36m__call__\u001b[0;34m(self, *args)\u001b[0m\n\u001b[1;32m   1449\u001b[0m         \u001b[0;32mif\u001b[0m \u001b[0mself\u001b[0m\u001b[0;34m.\u001b[0m\u001b[0m_session\u001b[0m\u001b[0;34m.\u001b[0m\u001b[0m_created_with_new_api\u001b[0m\u001b[0;34m:\u001b[0m\u001b[0;34m\u001b[0m\u001b[0m\n\u001b[1;32m   1450\u001b[0m           return tf_session.TF_SessionRunCallable(\n\u001b[0;32m-> 1451\u001b[0;31m               self._session._session, self._handle, args, status, None)\n\u001b[0m\u001b[1;32m   1452\u001b[0m         \u001b[0;32melse\u001b[0m\u001b[0;34m:\u001b[0m\u001b[0;34m\u001b[0m\u001b[0m\n\u001b[1;32m   1453\u001b[0m           return tf_session.TF_DeprecatedSessionRunCallable(\n",
            "\u001b[0;31mKeyboardInterrupt\u001b[0m: "
          ]
        }
      ]
    },
    {
      "metadata": {
        "id": "B0vrwfxrOdhA",
        "colab_type": "code",
        "colab": {
          "autoexec": {
            "startup": false,
            "wait_interval": 0
          },
          "base_uri": "https://localhost:8080/",
          "height": 216
        },
        "outputId": "15843f2b-09d0-449f-a1bc-4c3fccaec1b6",
        "executionInfo": {
          "status": "ok",
          "timestamp": 1532384378381,
          "user_tz": 420,
          "elapsed": 3961,
          "user": {
            "displayName": "Dat Nguyen",
            "photoUrl": "//lh3.googleusercontent.com/-irIcNYd-KIw/AAAAAAAAAAI/AAAAAAAAAEs/NlM8kG6RL4Q/s50-c-k-no/photo.jpg",
            "userId": "108917076199533451784"
          }
        }
      },
      "cell_type": "code",
      "source": [
        "!pip install pydot"
      ],
      "execution_count": 47,
      "outputs": [
        {
          "output_type": "stream",
          "text": [
            "Collecting pydot\n",
            "\u001b[?25l  Downloading https://files.pythonhosted.org/packages/c3/f1/e61d6dfe6c1768ed2529761a68f70939e2569da043e9f15a8d84bf56cadf/pydot-1.2.4.tar.gz (132kB)\n",
            "\u001b[K    100% |████████████████████████████████| 133kB 5.7MB/s \n",
            "\u001b[?25hRequirement already satisfied: pyparsing>=2.1.4 in /usr/local/lib/python3.6/dist-packages (from pydot) (2.2.0)\n",
            "Building wheels for collected packages: pydot\n",
            "  Running setup.py bdist_wheel for pydot ... \u001b[?25l-\b \bdone\n",
            "\u001b[?25h  Stored in directory: /content/.cache/pip/wheels/6a/a5/14/25541ebcdeaf97a37b6d05c7ff15f5bd20f5e91b99d313e5b4\n",
            "Successfully built pydot\n",
            "Installing collected packages: pydot\n",
            "Successfully installed pydot-1.2.4\n",
            "\u001b[33mYou are using pip version 10.0.1, however version 18.0 is available.\n",
            "You should consider upgrading via the 'pip install --upgrade pip' command.\u001b[0m\n"
          ],
          "name": "stdout"
        }
      ]
    },
    {
      "metadata": {
        "id": "mkmlrCQqNdgu",
        "colab_type": "code",
        "colab": {
          "autoexec": {
            "startup": false,
            "wait_interval": 0
          },
          "base_uri": "https://localhost:8080/",
          "height": 333
        },
        "outputId": "17de0d74-72a0-498b-9cf1-c8d9c5ce9afd",
        "executionInfo": {
          "status": "ok",
          "timestamp": 1532384454117,
          "user_tz": 420,
          "elapsed": 349,
          "user": {
            "displayName": "Dat Nguyen",
            "photoUrl": "//lh3.googleusercontent.com/-irIcNYd-KIw/AAAAAAAAAAI/AAAAAAAAAEs/NlM8kG6RL4Q/s50-c-k-no/photo.jpg",
            "userId": "108917076199533451784"
          }
        }
      },
      "cell_type": "code",
      "source": [
        "model.summary()"
      ],
      "execution_count": 49,
      "outputs": [
        {
          "output_type": "stream",
          "text": [
            "_________________________________________________________________\n",
            "Layer (type)                 Output Shape              Param #   \n",
            "=================================================================\n",
            "input_1 (InputLayer)         (None, None, 2)           0         \n",
            "_________________________________________________________________\n",
            "bidirectional (Bidirectional (None, None, 800)         967200    \n",
            "_________________________________________________________________\n",
            "batch_normalization (BatchNo (None, None, 800)         3200      \n",
            "_________________________________________________________________\n",
            "bidirectional_1 (Bidirection (None, None, 800)         2882400   \n",
            "_________________________________________________________________\n",
            "batch_normalization_1 (Batch (None, None, 800)         3200      \n",
            "_________________________________________________________________\n",
            "time_distributed (TimeDistri (None, None, 1)           801       \n",
            "=================================================================\n",
            "Total params: 3,856,801\n",
            "Trainable params: 3,853,601\n",
            "Non-trainable params: 3,200\n",
            "_________________________________________________________________\n"
          ],
          "name": "stdout"
        }
      ]
    },
    {
      "metadata": {
        "id": "d82Vht2bY5bI",
        "colab_type": "code",
        "colab": {
          "autoexec": {
            "startup": false,
            "wait_interval": 0
          },
          "base_uri": "https://localhost:8080/",
          "height": 50
        },
        "outputId": "e6ae60ba-c18d-4a93-c14f-59d9e8196839",
        "executionInfo": {
          "status": "ok",
          "timestamp": 1532377851488,
          "user_tz": 420,
          "elapsed": 24696,
          "user": {
            "displayName": "Dat Nguyen",
            "photoUrl": "//lh3.googleusercontent.com/-irIcNYd-KIw/AAAAAAAAAAI/AAAAAAAAAEs/NlM8kG6RL4Q/s50-c-k-no/photo.jpg",
            "userId": "108917076199533451784"
          }
        }
      },
      "cell_type": "code",
      "source": [
        "# _, ber, bler = model.evaluate(X_test, Y_test)\n",
        "predictions = model.predict(X_test, batch_size=512)\n",
        "estimated = np.squeeze(predictions, -1).round()\n",
        "\n",
        "ber, bler = get_ber_bler(np.array(estimated), y_test)\n",
        "print('BER: %f' % ber)\n",
        "print('BLER: %f' % bler)"
      ],
      "execution_count": 15,
      "outputs": [
        {
          "output_type": "stream",
          "text": [
            "BER: 0.000118\n",
            "BLER: 0.009400\n"
          ],
          "name": "stdout"
        }
      ]
    },
    {
      "metadata": {
        "id": "ovnOcsoc1gMz",
        "colab_type": "code",
        "colab": {
          "autoexec": {
            "startup": false,
            "wait_interval": 0
          }
        }
      },
      "cell_type": "code",
      "source": [
        "model.save('end2end.hdf5')"
      ],
      "execution_count": 0,
      "outputs": []
    },
    {
      "metadata": {
        "id": "47AjRxIC4zVE",
        "colab_type": "code",
        "colab": {
          "autoexec": {
            "startup": false,
            "wait_interval": 0
          }
        }
      },
      "cell_type": "code",
      "source": [
        "from radioml.radio_receivers import Receiver\n",
        "from radioml.radio_receivers import ModularReceiver\n",
        "from radioml.decoders import ViterbiDecoder, NeuralDecoder\n",
        "\n",
        "from tensorflow.keras.models import load_model\n",
        "import radioml.utils as utils\n",
        "\n",
        "class End2EndReceiver(Receiver):\n",
        "    \"\"\"End-to-End Receiver.\"\"\"\n",
        "    def __init__(self, model, block_length):\n",
        "        super(End2EndReceiver, self).__init__()\n",
        "        self.block_length = block_length\n",
        "        self.model = load_model(model, compile=False)\n",
        "\n",
        "    def __call__(self, noisy_inputs, batch_size):\n",
        "        predictions = self.model.predict(self._preprocess_fn(noisy_inputs), batch_size)\n",
        "        return np.squeeze(predictions, -1).round()\n",
        "\n",
        "\n",
        "    def _preprocess_fn(self, complex_inputs):\n",
        "        \"\"\"Encode complex inputs to 2D ndarray inputs\"\"\"\n",
        "        x = np.stack((np.array(complex_inputs).real,\n",
        "                      np.array(complex_inputs).imag),\n",
        "                      axis=-1)\n",
        "        return x.reshape((-1, self.block_length, 2))   \n",
        "\n",
        "\n",
        "\n",
        "classic_demod   = ClassicDemodulator(modem)\n",
        "viterbi_decoder = ViterbiDecoder(trellis, tb_depth=15, decoding_type='hard')\n",
        "\n",
        "baseline_receiver = ModularReceiver(classic_demod, viterbi_decoder)\n",
        "end2end_receiver = End2EndReceiver('end2end.hdf5', block_length=100)"
      ],
      "execution_count": 0,
      "outputs": []
    },
    {
      "metadata": {
        "id": "6gA2Q4rH3T7R",
        "colab_type": "code",
        "colab": {
          "autoexec": {
            "startup": false,
            "wait_interval": 0
          },
          "base_uri": "https://localhost:8080/",
          "height": 416
        },
        "outputId": "22b81264-33ab-4887-8106-7f3c7887f09d",
        "executionInfo": {
          "status": "ok",
          "timestamp": 1532382154807,
          "user_tz": 420,
          "elapsed": 392766,
          "user": {
            "displayName": "Dat Nguyen",
            "photoUrl": "//lh3.googleusercontent.com/-irIcNYd-KIw/AAAAAAAAAAI/AAAAAAAAAEs/NlM8kG6RL4Q/s50-c-k-no/photo.jpg",
            "userId": "108917076199533451784"
          }
        }
      },
      "cell_type": "code",
      "source": [
        "import time\n",
        "class Params:\n",
        "    SNR_RANGE = [0.0, 3.0, 5.0, 7.0, 9.0, 10.0, 11.0, 13.0]\n",
        "    NUM_SAMPLES = 2000\n",
        "    BLOCK_LENGTH = 100\n",
        "    BPSK, QPSK, QAM16, QAM64 = 2, 4, 16, 64\n",
        "    \n",
        "    \n",
        "ber_logs, bler_logs = [], []\n",
        "for i, snr in enumerate(Params.SNR_RANGE):\n",
        "    print('SNR_dB = %f' % snr)\n",
        "    \n",
        "    (original_bits, clean_signals, noisy_signals) = signal_generator(\n",
        "        modem,\n",
        "        Params.NUM_SAMPLES, \n",
        "        Params.BLOCK_LENGTH, \n",
        "        snr)\n",
        "    \n",
        "    # ####################################\n",
        "    # Run Baseline/Neral Receiver\n",
        "    # ####################################\n",
        "    t1 = time.time()\n",
        "    with mp.Pool(mp.cpu_count()) as pool:\n",
        "        baseline_estimated = pool.map(baseline_receiver, [i for i in noisy_signals])\n",
        "    t2 = time.time()\n",
        "    nn_estimated = end2end_receiver(np.array(noisy_signals)[:, :100], 128)\n",
        "    t3 = time.time()\n",
        "    # ####################################\n",
        "    # Measure Accuracy / error\n",
        "    # #################################### \n",
        "    # For decoder\n",
        "    ber, bler        = utils.get_ber_bler(np.array(baseline_estimated)[:, :100], \n",
        "                                          original_bits)\n",
        "    nn_ber, nn_bler  = utils.get_ber_bler(nn_estimated, original_bits)\n",
        "    ber_logs.append([ber, nn_ber])\n",
        "    bler_logs.append([bler, nn_bler])\n",
        "    \n",
        "    print('\\t[Modular]  Ber = {:.8f} | Bler ={:.8f} - {:.5f}'.format(nn_ber, nn_bler, t2 - t1))\n",
        "    print('\\t[Baseline] Ber = {:.8f} | Bler ={:.8f} - {:.5f}'.format(ber, bler, t3-t2))"
      ],
      "execution_count": 44,
      "outputs": [
        {
          "output_type": "stream",
          "text": [
            "SNR_dB = 0.000000\n",
            "\t[Modular]  Ber = 0.23604000 | Bler =1.00000000 - 41.06021\n",
            "\t[Baseline] Ber = 0.28425000 | Bler =1.00000000 - 5.12924\n",
            "SNR_dB = 3.000000\n",
            "\t[Modular]  Ber = 0.12044000 | Bler =0.99800000 - 41.26327\n",
            "\t[Baseline] Ber = 0.16614000 | Bler =0.99900000 - 5.13879\n",
            "SNR_dB = 5.000000\n",
            "\t[Modular]  Ber = 0.04434000 | Bler =0.91600000 - 40.85605\n",
            "\t[Baseline] Ber = 0.07432000 | Bler =0.91900000 - 5.12958\n",
            "SNR_dB = 7.000000\n",
            "\t[Modular]  Ber = 0.00813000 | Bler =0.37500000 - 40.95719\n",
            "\t[Baseline] Ber = 0.01539000 | Bler =0.39800000 - 5.15360\n",
            "SNR_dB = 9.000000\n",
            "\t[Modular]  Ber = 0.00052000 | Bler =0.03400000 - 40.95396\n",
            "\t[Baseline] Ber = 0.00144000 | Bler =0.06000000 - 5.12299\n",
            "SNR_dB = 10.000000\n",
            "\t[Modular]  Ber = 0.00004000 | Bler =0.00300000 - 40.75341\n",
            "\t[Baseline] Ber = 0.00054000 | Bler =0.02500000 - 5.10981\n",
            "SNR_dB = 11.000000\n",
            "\t[Modular]  Ber = 0.00000000 | Bler =0.00000000 - 41.25622\n",
            "\t[Baseline] Ber = 0.00010000 | Bler =0.00700000 - 5.14927\n",
            "SNR_dB = 13.000000\n",
            "\t[Modular]  Ber = 0.00000000 | Bler =0.00000000 - 40.95463\n",
            "\t[Baseline] Ber = 0.00000000 | Bler =0.00000000 - 5.08747\n"
          ],
          "name": "stdout"
        }
      ]
    },
    {
      "metadata": {
        "id": "MDCBQK4-3gGc",
        "colab_type": "code",
        "colab": {
          "autoexec": {
            "startup": false,
            "wait_interval": 0
          },
          "base_uri": "https://localhost:8080/",
          "height": 404
        },
        "outputId": "42f7bdf8-4062-4995-8993-3a523890df36",
        "executionInfo": {
          "status": "ok",
          "timestamp": 1532381639065,
          "user_tz": 420,
          "elapsed": 1215,
          "user": {
            "displayName": "Dat Nguyen",
            "photoUrl": "//lh3.googleusercontent.com/-irIcNYd-KIw/AAAAAAAAAAI/AAAAAAAAAEs/NlM8kG6RL4Q/s50-c-k-no/photo.jpg",
            "userId": "108917076199533451784"
          }
        }
      },
      "cell_type": "code",
      "source": [
        "import matplotlib.pyplot as plt\n",
        "\n",
        "_, (ax1, ax2) = plt.subplots(1, 2, figsize=(16, 6))\n",
        "utils.visualize_ber_bler(ax1, ax2, ber_logs, bler_logs, Params.SNR_RANGE)\n",
        "ax1.semilogy()\n",
        "ax2.semilogy()"
      ],
      "execution_count": 42,
      "outputs": [
        {
          "output_type": "execute_result",
          "data": {
            "text/plain": [
              "[]"
            ]
          },
          "metadata": {
            "tags": []
          },
          "execution_count": 42
        },
        {
          "output_type": "display_data",
          "data": {
            "image/png": "[encoded data removed]",
            "text/plain": [
              "<matplotlib.figure.Figure at 0x7f1b910967b8>"
            ]
          },
          "metadata": {
            "tags": []
          }
        }
      ]
    },
    {
      "metadata": {
        "id": "msTJyg6RECqv",
        "colab_type": "code",
        "colab": {
          "autoexec": {
            "startup": false,
            "wait_interval": 0
          }
        }
      },
      "cell_type": "code",
      "source": [
        ""
      ],
      "execution_count": 0,
      "outputs": []
    }
  ]
}