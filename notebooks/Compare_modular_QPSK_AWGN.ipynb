{
 "cells": [
  {
   "cell_type": "code",
   "execution_count": 1,
   "metadata": {},
   "outputs": [],
   "source": [
    "import os\n",
    "import sys\n",
    "import multiprocessing as mp\n",
    "\n",
    "# a hack to import module from different directory\n",
    "module_path = os.path.abspath(os.path.join('..'))\n",
    "if module_path not in sys.path:\n",
    "    sys.path.append(module_path)\n",
    "\n",
    "import tqdm\n",
    "import numpy as np\n",
    "import commpy as cp\n",
    "from commpy.modulation import QAMModem\n",
    "from commpy.channelcoding import Trellis\n",
    "\n",
    "from radioml.radio_receivers import ModularReceiver\n",
    "from radioml.decoders import ViterbiDecoder, NeuralDecoder\n",
    "from radioml.demodulators import ClassicDemodulator, NeuralDemodulator\n",
    "import radioml.utils as utils"
   ]
  },
  {
   "cell_type": "markdown",
   "metadata": {},
   "source": [
    "## Define Paramters for the comparison"
   ]
  },
  {
   "cell_type": "code",
   "execution_count": 2,
   "metadata": {},
   "outputs": [],
   "source": [
    "class Params:\n",
    "    SNR_RANGE = [0.0, 5.0, 10.0, 15.0, 16.0, 17.0, 17.5, 18.0, 18.5, 19.0, 19.5, 20.0]\n",
    "    NUM_SAMPLES = 10000\n",
    "    BLOCK_LENGTH = 100\n",
    "    BPSK, QPSK, QAM16, QAM64 = 2, 4, 16, 64\n",
    "    \n",
    "# For encoding/decoding convolutional codes\n",
    "G = np.array([[0o7, 0o5]]) \n",
    "M = np.array([2])\n",
    "trellis = Trellis(M, G, feedback=0o7, code_type='rsc')\n",
    "modem = QAMModem(m=Params.QPSK)"
   ]
  },
  {
   "cell_type": "markdown",
   "metadata": {},
   "source": [
    "## Define Baseline (Class Demod + Viterbi) & Modular Receivers (Class Demod + RNN)"
   ]
  },
  {
   "cell_type": "code",
   "execution_count": 3,
   "metadata": {},
   "outputs": [],
   "source": [
    "# Define a Baseline Receiver\n",
    "classic_demod   = ClassicDemodulator(modem)\n",
    "viterbi_decoder = ViterbiDecoder(trellis, tb_depth=15, decoding_type='hard')\n",
    "neural_decoder  = NeuralDecoder(model_path='../models/BiGRU_BSC.hdf5', block_length=100)\n",
    "\n",
    "\n",
    "baseline_radio = ModularReceiver(classic_demod, viterbi_decoder)\n",
    "neural_radio  =  ModularReceiver(classic_demod, neural_decoder)"
   ]
  },
  {
   "cell_type": "markdown",
   "metadata": {},
   "source": [
    "## Evaluate Baseline  on multiple SNRs\n",
    "\n",
    "* For each SNR, generate (orignal message bits, modulated signals, noisy signals) using `SignalGenerator`.\n",
    "* Run demodulation of baseline and modular version (a NN).\n",
    "* Run decoder of baseline (viterbi) and modular version (a RNN).\n",
    "* Log and results and plot"
   ]
  },
  {
   "cell_type": "code",
   "execution_count": 4,
   "metadata": {},
   "outputs": [],
   "source": [
    "def generate_signal_over_awgn(block_length=100, snr_dB=15.0):\n",
    "    message_bits   = np.random.randint(0, 2, block_length)\n",
    "    encoded_bits   = cp.channelcoding.conv_encode(message_bits, trellis)\n",
    "    modulated_bits = modem.modulate(encoded_bits)\n",
    "    corrupted_bits = cp.channels.awgn(modulated_bits, snr_dB, rate=1/2)\n",
    "    \n",
    "    return message_bits, modulated_bits, corrupted_bits\n",
    "\n",
    "def signal_generator(num_examples, block_length, snr_dB):\n",
    "    with mp.Pool(mp.cpu_count()) as pool:\n",
    "        result = pool.starmap(generate_signal_over_awgn,\n",
    "                iterable=[(block_length, snr_dB) \\\n",
    "                          for i in range(num_examples)])\n",
    "        orignal_msg_bits, moded_bits, noisy_outputs = zip(*result)\n",
    "    return (np.array(orignal_msg_bits), np.array(moded_bits), np.array(noisy_outputs))"
   ]
  },
  {
   "cell_type": "code",
   "execution_count": 5,
   "metadata": {
    "scrolled": false
   },
   "outputs": [
    {
     "name": "stdout",
     "output_type": "stream",
     "text": [
      "SNR_dB = 0.000000\n",
      "\t[Baseline] Ber = 0.2821 | Bler =1.0000 \n",
      "\t[Modular]  Ber = 0.2467 | Bler =1.0000\n",
      "SNR_dB = 5.000000\n",
      "\t[Baseline] Ber = 0.0746 | Bler =0.9185 \n",
      "\t[Modular]  Ber = 0.0656 | Bler =0.9736\n",
      "SNR_dB = 10.000000\n",
      "\t[Baseline] Ber = 0.0003 | Bler =0.0175 \n",
      "\t[Modular]  Ber = 0.0004 | Bler =0.0264\n",
      "SNR_dB = 15.000000\n",
      "\t[Baseline] Ber = 0.0000 | Bler =0.0000 \n",
      "\t[Modular]  Ber = 0.0000 | Bler =0.0000\n",
      "SNR_dB = 16.000000\n",
      "\t[Baseline] Ber = 0.0000 | Bler =0.0000 \n",
      "\t[Modular]  Ber = 0.0000 | Bler =0.0000\n",
      "SNR_dB = 17.000000\n",
      "\t[Baseline] Ber = 0.0000 | Bler =0.0000 \n",
      "\t[Modular]  Ber = 0.0000 | Bler =0.0000\n",
      "SNR_dB = 17.500000\n",
      "\t[Baseline] Ber = 0.0000 | Bler =0.0000 \n",
      "\t[Modular]  Ber = 0.0000 | Bler =0.0000\n",
      "SNR_dB = 18.000000\n",
      "\t[Baseline] Ber = 0.0000 | Bler =0.0000 \n",
      "\t[Modular]  Ber = 0.0000 | Bler =0.0000\n",
      "SNR_dB = 18.500000\n",
      "\t[Baseline] Ber = 0.0000 | Bler =0.0000 \n",
      "\t[Modular]  Ber = 0.0000 | Bler =0.0000\n",
      "SNR_dB = 19.000000\n",
      "\t[Baseline] Ber = 0.0000 | Bler =0.0000 \n",
      "\t[Modular]  Ber = 0.0000 | Bler =0.0000\n",
      "SNR_dB = 19.500000\n",
      "\t[Baseline] Ber = 0.0000 | Bler =0.0000 \n",
      "\t[Modular]  Ber = 0.0000 | Bler =0.0000\n",
      "SNR_dB = 20.000000\n",
      "\t[Baseline] Ber = 0.0000 | Bler =0.0000 \n",
      "\t[Modular]  Ber = 0.0000 | Bler =0.0000\n"
     ]
    }
   ],
   "source": [
    "\n",
    "ber_logs, bler_logs = [], []\n",
    "for i, snr in enumerate(Params.SNR_RANGE):\n",
    "    (original_bits, clean_signals, noisy_signals) = signal_generator(\n",
    "        Params.NUM_SAMPLES, \n",
    "        Params.BLOCK_LENGTH, \n",
    "        snr)\n",
    "    \n",
    "    # ####################################\n",
    "    # Run Baseline/Neral Receiver\n",
    "    # ####################################\n",
    "    with mp.Pool(mp.cpu_count()) as pool:\n",
    "        baseline_estimated = pool.map(baseline_radio, [i for i in noisy_signals])\n",
    "  \n",
    "    nn_estimated = neural_radio(noisy_signals, True)\n",
    "    \n",
    "    # ####################################\n",
    "    # Measure Accuracy / error\n",
    "    # #################################### \n",
    "    # For decoder\n",
    "    ber, bler        = utils.get_ber_bler(np.array(baseline_estimated)[:, :100], original_bits)\n",
    "    nn_ber, nn_bler  = utils.get_ber_bler(nn_estimated, original_bits)\n",
    "    \n",
    "    ber_logs.append([ber, nn_ber])\n",
    "    bler_logs.append([bler, nn_bler])\n",
    "    \n",
    "    print('SNR_dB = %f' % snr)\n",
    "    print('\\t[Baseline] Ber = {:.4f} | Bler ={:.4f} '.format(ber, bler))\n",
    "    print('\\t[Modular]  Ber = {:.4f} | Bler ={:.4f}'.format(nn_ber, nn_bler))"
   ]
  },
  {
   "cell_type": "markdown",
   "metadata": {},
   "source": [
    "### Compare Decoder Performance "
   ]
  },
  {
   "cell_type": "code",
   "execution_count": 6,
   "metadata": {},
   "outputs": [
    {
     "data": {
      "text/plain": [
       "[]"
      ]
     },
     "execution_count": 6,
     "metadata": {},
     "output_type": "execute_result"
    },
    {
     "data": {
      "image/png": "[encoded data removed]",
      "text/plain": [
       "<Figure size 1152x432 with 2 Axes>"
      ]
     },
     "metadata": {},
     "output_type": "display_data"
    }
   ],
   "source": [
    "import matplotlib.pyplot as plt\n",
    "\n",
    "_, (ax1, ax2) = plt.subplots(1, 2, figsize=(16, 6))\n",
    "utils.visualize_ber_bler(ax1, ax2, ber_logs, bler_logs, Params.SNR_RANGE)\n",
    "ax1.semilogy()\n",
    "ax2.semilogy()"
   ]
  },
  {
   "cell_type": "code",
   "execution_count": null,
   "metadata": {},
   "outputs": [],
   "source": []
  }
 ],
 "metadata": {
  "kernelspec": {
   "display_name": "test",
   "language": "python",
   "name": "test"
  },
  "language_info": {
   "codemirror_mode": {
    "name": "ipython",
    "version": 3
   },
   "file_extension": ".py",
   "mimetype": "text/x-python",
   "name": "python",
   "nbconvert_exporter": "python",
   "pygments_lexer": "ipython3",
   "version": "3.6.5"
  }
 },
 "nbformat": 4,
 "nbformat_minor": 2
}
