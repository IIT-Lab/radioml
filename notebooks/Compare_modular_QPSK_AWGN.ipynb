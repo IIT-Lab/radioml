{
 "cells": [
  {
   "cell_type": "code",
   "execution_count": 1,
   "metadata": {},
   "outputs": [],
   "source": [
    "# a hack to import module from different directory\n",
    "import os\n",
    "import sys\n",
    "module_path = os.path.abspath(os.path.join('..'))\n",
    "if module_path not in sys.path:\n",
    "    sys.path.append(module_path)"
   ]
  },
  {
   "cell_type": "code",
   "execution_count": 2,
   "metadata": {},
   "outputs": [],
   "source": [
    "import numpy as np\n",
    "import commpy as cp\n",
    "from commpy.channelcoding import Trellis\n",
    "from commpy.modulation import QAMModem\n",
    "\n",
    "import utils as utils\n",
    "from signal_generator import SignalGenerator\n",
    "from baseline_receiver import BaselineReceiver\n",
    "from modular_receiver import ModularReceiver\n",
    "\n",
    "# Visualization\n",
    "import pylab\n",
    "import seaborn as sns\n",
    "import matplotlib.pyplot as plt\n",
    "sns.set()  # Use seaborn as backend of matplotlib for vis"
   ]
  },
  {
   "cell_type": "markdown",
   "metadata": {},
   "source": [
    "## Define Paramters for the comparison"
   ]
  },
  {
   "cell_type": "code",
   "execution_count": 3,
   "metadata": {},
   "outputs": [],
   "source": [
    "# For encoding/decoding convolutional codes\n",
    "G = np.array([[0o7, 0o5]]) \n",
    "M = np.array([2])\n",
    "trellis = Trellis(M, G, feedback=0o7, code_type='rsc')\n",
    "\n",
    "class Params:\n",
    "    SNR_RANGE = np.linspace(0.02, 0.2, 10)\n",
    "    NUM_SAMPLES = 1000\n",
    "    BLOCK_LENGTH = 100\n",
    "    BPSK, QPSK, QAM16, QAM64 = 2, 4, 16, 64\n",
    "    \n",
    "modem = QAMModem(m=Params.QPSK)\n",
    "signal_generator = SignalGenerator(modem=modem)"
   ]
  },
  {
   "cell_type": "markdown",
   "metadata": {},
   "source": [
    "## Define Baseline (Demod + Viterbi) & Modular Receivers (NN + RNN)"
   ]
  },
  {
   "cell_type": "code",
   "execution_count": 4,
   "metadata": {},
   "outputs": [],
   "source": [
    "baseline_receiver = BaselineReceiver(modem, trellis)\n",
    "modular_receiver  = ModularReceiver(demod_model_path='../models/demod_model_qpsk.hdf5',\n",
    "                                    decoder_model_path='../models/bigru4.hdf5')"
   ]
  },
  {
   "cell_type": "markdown",
   "metadata": {},
   "source": [
    "## Evaluate Baseline  on multiple SNRs\n",
    "\n",
    "* For each SNR, generate (orignal message bits, modulated signals, noisy signals) using `SignalGenerator`.\n",
    "* Run demodulation of baseline and modular version (a NN).\n",
    "* Run decoder of baseline (viterbi) and modular version (a RNN).\n",
    "* Log and results and plot"
   ]
  },
  {
   "cell_type": "code",
   "execution_count": null,
   "metadata": {
    "scrolled": false
   },
   "outputs": [
    {
     "name": "stderr",
     "output_type": "stream",
     "text": [
      "\r",
      "  0%|          | 0/10 [00:00<?, ?it/s]"
     ]
    }
   ],
   "source": [
    "import tqdm\n",
    "\n",
    "errors_logs = []\n",
    "accuracies_logs = []\n",
    "ber_logs  = []\n",
    "bler_logs = []\n",
    "\n",
    "fig, axes = plt.subplots(len(Params.SNR_RANGE), 2, figsize=(14, 4 * len(Params.SNR_RANGE)))\n",
    "for i, snr in tqdm.tqdm(enumerate(Params.SNR_RANGE), total=len(Params.SNR_RANGE)):\n",
    "    (original_bits, clean_signals, noisy_signals) = signal_generator(\n",
    "        Params.NUM_SAMPLES, \n",
    "        Params.BLOCK_LENGTH, \n",
    "        snr_in_dB=snr)\n",
    "    \n",
    "    complex_inputs = noisy_signals.flatten()\n",
    "    mapping, ground_truths = np.unique(clean_signals.flatten(), return_inverse=True)\n",
    "\n",
    "    # ####################################\n",
    "    # Run Baseline/Neral Demodulation\n",
    "    # ####################################\n",
    "    baseline_predictions = baseline_receiver.demodulate(complex_inputs)\n",
    "    \n",
    "    #nn_predictions       = modular_receiver.demodulate(complex_inputs)\n",
    "    nn_predictions       = baseline_predictions\n",
    "\n",
    "    # ####################################\n",
    "    # Run Baseline/Neral Decoder\n",
    "    # ####################################\n",
    "    \n",
    "    # Convert Symbols to Complex Number, then to real numbers.\n",
    "    baseline_demoded = modem.demodulate(mapping[baseline_predictions].flatten(), 'hard')\n",
    "    nn_demoded       = baseline_demoded\n",
    "    \n",
    "    # Preprocess input to feed into RNN\n",
    "    nn_demoded = nn_demoded.reshape((Params.NUM_SAMPLES, -1))\n",
    "    nn_demoded = nn_demoded[:, : 2 * Params.BLOCK_LENGTH].reshape((-1, Params.BLOCK_LENGTH, 2))\n",
    "    \n",
    "    # Estimate original bits using baseline (viterbi) and nn decoder\n",
    "    baseline_estimated = baseline_receiver.decode(baseline_demoded)  # Viterbi\n",
    "    nn_estimated       = modular_receiver.decode(nn_demoded).round() # Bi-directional GRU\n",
    "    \n",
    "    baseline_estimated = baseline_estimated.reshape((Params.NUM_SAMPLES, -1))[:, :Params.BLOCK_LENGTH]\n",
    "    \n",
    "    # ####################################\n",
    "    # Measure Accuracy / error\n",
    "    # #################################### \n",
    "    # For demod\n",
    "    acc, err       = utils.get_scores(baseline_predictions, ground_truths)    \n",
    "    nn_acc, nn_err = utils.get_scores(nn_predictions, ground_truths)\n",
    "    \n",
    "    # For decoder\n",
    "    ber, bler        = utils.get_ber_bler(baseline_estimated, original_bits)\n",
    "    nn_ber, nn_bler  = utils.get_ber_bler(nn_estimated, original_bits)\n",
    "    \n",
    "    ber_logs.append([ber, nn_ber])\n",
    "    bler_logs.append([bler, nn_bler])\n",
    "    errors_logs.append([err, nn_err])\n",
    "    accuracies_logs.append([acc, nn_acc])\n",
    "    \n",
    "    # ####################################\n",
    "    # Visualize Modulation\n",
    "    # ####################################\n",
    "    data_point_limit = 10000\n",
    "    title    = '[Baseline] SNR = {} | Acc = {:.2f} | BLER = {:.2f}'.format(snr, acc, bler)\n",
    "    nn_title = '[Modular] SNR = {} | Acc = {:.2f} | BLER = {:.2f}'.format(snr, nn_acc, nn_bler)\n",
    "    \n",
    "    print('Error Probability=%f' % snr)\n",
    "    print('\\t[Baseline] Acc = {:.2f} | Ber = {:.4f} | Bler ={:.4f} '.format(acc, ber, bler))\n",
    "    print('\\t[Modular]  Acc = {:.2f} | Ber = {:.4f} | Bler ={:.4f}'.format(nn_acc, nn_ber, nn_bler))\n",
    "    \n",
    "    utils.visualize_demodulation(complex_inputs[:data_point_limit], modem.constellation, ax=axes[i, 0],\n",
    "        predictions=baseline_predictions[:data_point_limit],\n",
    "        title=title)\n",
    "\n",
    "    utils.visualize_demodulation(complex_inputs[:data_point_limit], modem.constellation, ax=axes[i, 1],\n",
    "        predictions=nn_predictions[:data_point_limit],\n",
    "        title=nn_title)\n",
    "\n",
    "fig.tight_layout()"
   ]
  },
  {
   "cell_type": "markdown",
   "metadata": {},
   "source": [
    "### Compare Demodulation Performance (Error / Accuracy)"
   ]
  },
  {
   "cell_type": "code",
   "execution_count": null,
   "metadata": {},
   "outputs": [],
   "source": [
    "_, (ax1, ax2) = plt.subplots(1, 2, figsize=(16, 6))\n",
    "utils.visualize_acc_err(ax1, ax2, errors_logs, accuracies_logs, Params.SNR_RANGE)"
   ]
  },
  {
   "cell_type": "markdown",
   "metadata": {},
   "source": [
    "### Compare Decoder Performance (error / accuracy)"
   ]
  },
  {
   "cell_type": "code",
   "execution_count": null,
   "metadata": {},
   "outputs": [],
   "source": [
    "_, (ax1, ax2) = plt.subplots(1, 2, figsize=(16, 6))\n",
    "utils.visualize_ber_bler(ax1, ax2, ber_logs, bler_logs, Params.SNR_RANGE)"
   ]
  },
  {
   "cell_type": "code",
   "execution_count": null,
   "metadata": {},
   "outputs": [],
   "source": []
  }
 ],
 "metadata": {
  "kernelspec": {
   "display_name": "Python 3",
   "language": "python",
   "name": "python3"
  },
  "language_info": {
   "codemirror_mode": {
    "name": "ipython",
    "version": 3
   },
   "file_extension": ".py",
   "mimetype": "text/x-python",
   "name": "python",
   "nbconvert_exporter": "python",
   "pygments_lexer": "ipython3",
   "version": "3.6.5"
  }
 },
 "nbformat": 4,
 "nbformat_minor": 2
}
